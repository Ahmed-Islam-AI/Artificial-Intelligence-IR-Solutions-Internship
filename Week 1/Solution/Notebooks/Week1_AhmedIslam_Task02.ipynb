{
  "nbformat": 4,
  "nbformat_minor": 0,
  "metadata": {
    "colab": {
      "provenance": []
    },
    "kernelspec": {
      "name": "python3",
      "display_name": "Python 3"
    },
    "language_info": {
      "name": "python"
    }
  },
  "cells": [
    {
      "cell_type": "markdown",
      "source": [
        "# 📩 Task 02: Spam Detection using Logistic Regression\n",
        "\n",
        "**Intern Name**: Ahmed Islam  \n",
        "**Department**: Artificial Intelligence  \n",
        "**Organization**: IR Solutions  \n",
        "**Designation**: AI Intern\n",
        "\n",
        "**Task**: Build a logistic regression model to classify SMS messages as spam or non-spam using PyTorch.\n",
        "\n",
        "---\n",
        "\n",
        "## 🎯 Objective\n",
        "\n",
        "- Preprocess and vectorize textual data.\n",
        "- Apply Logistic Regression using PyTorch.\n",
        "- Train the model to classify messages into spam or non-spam categories.\n",
        "- Evaluate the model using classification metrics.\n",
        "\n",
        "---\n",
        "\n",
        "## 📦 Dataset Overview\n",
        "\n",
        "- The dataset contains SMS messages labeled as `spam` or `ham` (non-spam).\n",
        "- We will encode labels (`spam = 1`, `ham = 0`) and convert text to numeric features using **TF-IDF**.\n",
        "\n",
        "---\n",
        "\n",
        "## ⚙️ Model Architecture\n",
        "\n",
        "- Use a simple logistic regression model (`nn.Linear`) followed by a **sigmoid** activation.\n",
        "- Loss function: **Binary Cross-Entropy (BCELoss)**\n",
        "\n",
        "---\n",
        "\n",
        "## 📈 Evaluation Metrics\n",
        "\n",
        "- Accuracy\n",
        "- Precision\n",
        "- Recall\n",
        "- Confusion Matrix\n",
        "\n",
        "---\n"
      ],
      "metadata": {
        "id": "t3aFbdn7oKj4"
      }
    },
    {
      "cell_type": "code",
      "execution_count": null,
      "metadata": {
        "id": "Wz1QErahkiC9"
      },
      "outputs": [],
      "source": [
        "# importing necesary libraries\n",
        "\n",
        "import pandas as pd\n",
        "import numpy as np\n",
        "import torch\n",
        "import torch.nn as nn\n",
        "import torch.nn.functional as F\n",
        "from sklearn.model_selection import train_test_split\n",
        "from sklearn.feature_extraction.text import TfidfVectorizer\n",
        "from sklearn.metrics import accuracy_score, precision_score, recall_score, confusion_matrix, classification_report\n",
        "from torch.utils.data import Dataset, DataLoader\n",
        "import matplotlib.pyplot as plt\n",
        "import seaborn as sns\n",
        "import warnings\n",
        "warnings.filterwarnings('ignore')"
      ]
    },
    {
      "cell_type": "code",
      "source": [
        "def load_data(file_path):\n",
        "    \"\"\"Load the insurance dataset from CSV file.\n",
        "\n",
        "    Args:\n",
        "        file_path (str): Path to the CSV file\n",
        "\n",
        "    Returns:\n",
        "        pd.DataFrame: Loaded insurance dataset\n",
        "    \"\"\"\n",
        "    try:\n",
        "        df = pd.read_csv(file_path, encoding='latin-1')\n",
        "        print(\"Dataset loaded successfully.\")\n",
        "        return df\n",
        "    except FileNotFoundError:\n",
        "        print(\"Error: File not found. Please check the file path.\")\n",
        "        return None\n",
        "\n",
        "# Load the dataset\n",
        "df = load_data(\"/content/SMS spam Collection.csv\") # define the path of the dataset"
      ],
      "metadata": {
        "colab": {
          "base_uri": "https://localhost:8080/"
        },
        "id": "HOi70QaupN2N",
        "outputId": "f732841f-eda6-4b50-fcb6-67cce5d5ad59"
      },
      "execution_count": null,
      "outputs": [
        {
          "output_type": "stream",
          "name": "stdout",
          "text": [
            "Dataset loaded successfully.\n"
          ]
        }
      ]
    },
    {
      "cell_type": "code",
      "source": [
        "# top 5 rows of the dataset\n",
        "df.head()"
      ],
      "metadata": {
        "colab": {
          "base_uri": "https://localhost:8080/",
          "height": 206
        },
        "id": "ON025M_SpZiY",
        "outputId": "7f34ace6-3dd3-4bc7-99be-02f023338781"
      },
      "execution_count": null,
      "outputs": [
        {
          "output_type": "execute_result",
          "data": {
            "text/plain": [
              "     v1                                                 v2 Unnamed: 2  \\\n",
              "0   ham  Go until jurong point, crazy.. Available only ...        NaN   \n",
              "1   ham                      Ok lar... Joking wif u oni...        NaN   \n",
              "2  spam  Free entry in 2 a wkly comp to win FA Cup fina...        NaN   \n",
              "3   ham  U dun say so early hor... U c already then say...        NaN   \n",
              "4   ham  Nah I don't think he goes to usf, he lives aro...        NaN   \n",
              "\n",
              "  Unnamed: 3 Unnamed: 4  \n",
              "0        NaN        NaN  \n",
              "1        NaN        NaN  \n",
              "2        NaN        NaN  \n",
              "3        NaN        NaN  \n",
              "4        NaN        NaN  "
            ],
            "text/html": [
              "\n",
              "  <div id=\"df-dc3a856f-fc0b-4561-8278-c968c803890d\" class=\"colab-df-container\">\n",
              "    <div>\n",
              "<style scoped>\n",
              "    .dataframe tbody tr th:only-of-type {\n",
              "        vertical-align: middle;\n",
              "    }\n",
              "\n",
              "    .dataframe tbody tr th {\n",
              "        vertical-align: top;\n",
              "    }\n",
              "\n",
              "    .dataframe thead th {\n",
              "        text-align: right;\n",
              "    }\n",
              "</style>\n",
              "<table border=\"1\" class=\"dataframe\">\n",
              "  <thead>\n",
              "    <tr style=\"text-align: right;\">\n",
              "      <th></th>\n",
              "      <th>v1</th>\n",
              "      <th>v2</th>\n",
              "      <th>Unnamed: 2</th>\n",
              "      <th>Unnamed: 3</th>\n",
              "      <th>Unnamed: 4</th>\n",
              "    </tr>\n",
              "  </thead>\n",
              "  <tbody>\n",
              "    <tr>\n",
              "      <th>0</th>\n",
              "      <td>ham</td>\n",
              "      <td>Go until jurong point, crazy.. Available only ...</td>\n",
              "      <td>NaN</td>\n",
              "      <td>NaN</td>\n",
              "      <td>NaN</td>\n",
              "    </tr>\n",
              "    <tr>\n",
              "      <th>1</th>\n",
              "      <td>ham</td>\n",
              "      <td>Ok lar... Joking wif u oni...</td>\n",
              "      <td>NaN</td>\n",
              "      <td>NaN</td>\n",
              "      <td>NaN</td>\n",
              "    </tr>\n",
              "    <tr>\n",
              "      <th>2</th>\n",
              "      <td>spam</td>\n",
              "      <td>Free entry in 2 a wkly comp to win FA Cup fina...</td>\n",
              "      <td>NaN</td>\n",
              "      <td>NaN</td>\n",
              "      <td>NaN</td>\n",
              "    </tr>\n",
              "    <tr>\n",
              "      <th>3</th>\n",
              "      <td>ham</td>\n",
              "      <td>U dun say so early hor... U c already then say...</td>\n",
              "      <td>NaN</td>\n",
              "      <td>NaN</td>\n",
              "      <td>NaN</td>\n",
              "    </tr>\n",
              "    <tr>\n",
              "      <th>4</th>\n",
              "      <td>ham</td>\n",
              "      <td>Nah I don't think he goes to usf, he lives aro...</td>\n",
              "      <td>NaN</td>\n",
              "      <td>NaN</td>\n",
              "      <td>NaN</td>\n",
              "    </tr>\n",
              "  </tbody>\n",
              "</table>\n",
              "</div>\n",
              "    <div class=\"colab-df-buttons\">\n",
              "\n",
              "  <div class=\"colab-df-container\">\n",
              "    <button class=\"colab-df-convert\" onclick=\"convertToInteractive('df-dc3a856f-fc0b-4561-8278-c968c803890d')\"\n",
              "            title=\"Convert this dataframe to an interactive table.\"\n",
              "            style=\"display:none;\">\n",
              "\n",
              "  <svg xmlns=\"http://www.w3.org/2000/svg\" height=\"24px\" viewBox=\"0 -960 960 960\">\n",
              "    <path d=\"M120-120v-720h720v720H120Zm60-500h600v-160H180v160Zm220 220h160v-160H400v160Zm0 220h160v-160H400v160ZM180-400h160v-160H180v160Zm440 0h160v-160H620v160ZM180-180h160v-160H180v160Zm440 0h160v-160H620v160Z\"/>\n",
              "  </svg>\n",
              "    </button>\n",
              "\n",
              "  <style>\n",
              "    .colab-df-container {\n",
              "      display:flex;\n",
              "      gap: 12px;\n",
              "    }\n",
              "\n",
              "    .colab-df-convert {\n",
              "      background-color: #E8F0FE;\n",
              "      border: none;\n",
              "      border-radius: 50%;\n",
              "      cursor: pointer;\n",
              "      display: none;\n",
              "      fill: #1967D2;\n",
              "      height: 32px;\n",
              "      padding: 0 0 0 0;\n",
              "      width: 32px;\n",
              "    }\n",
              "\n",
              "    .colab-df-convert:hover {\n",
              "      background-color: #E2EBFA;\n",
              "      box-shadow: 0px 1px 2px rgba(60, 64, 67, 0.3), 0px 1px 3px 1px rgba(60, 64, 67, 0.15);\n",
              "      fill: #174EA6;\n",
              "    }\n",
              "\n",
              "    .colab-df-buttons div {\n",
              "      margin-bottom: 4px;\n",
              "    }\n",
              "\n",
              "    [theme=dark] .colab-df-convert {\n",
              "      background-color: #3B4455;\n",
              "      fill: #D2E3FC;\n",
              "    }\n",
              "\n",
              "    [theme=dark] .colab-df-convert:hover {\n",
              "      background-color: #434B5C;\n",
              "      box-shadow: 0px 1px 3px 1px rgba(0, 0, 0, 0.15);\n",
              "      filter: drop-shadow(0px 1px 2px rgba(0, 0, 0, 0.3));\n",
              "      fill: #FFFFFF;\n",
              "    }\n",
              "  </style>\n",
              "\n",
              "    <script>\n",
              "      const buttonEl =\n",
              "        document.querySelector('#df-dc3a856f-fc0b-4561-8278-c968c803890d button.colab-df-convert');\n",
              "      buttonEl.style.display =\n",
              "        google.colab.kernel.accessAllowed ? 'block' : 'none';\n",
              "\n",
              "      async function convertToInteractive(key) {\n",
              "        const element = document.querySelector('#df-dc3a856f-fc0b-4561-8278-c968c803890d');\n",
              "        const dataTable =\n",
              "          await google.colab.kernel.invokeFunction('convertToInteractive',\n",
              "                                                    [key], {});\n",
              "        if (!dataTable) return;\n",
              "\n",
              "        const docLinkHtml = 'Like what you see? Visit the ' +\n",
              "          '<a target=\"_blank\" href=https://colab.research.google.com/notebooks/data_table.ipynb>data table notebook</a>'\n",
              "          + ' to learn more about interactive tables.';\n",
              "        element.innerHTML = '';\n",
              "        dataTable['output_type'] = 'display_data';\n",
              "        await google.colab.output.renderOutput(dataTable, element);\n",
              "        const docLink = document.createElement('div');\n",
              "        docLink.innerHTML = docLinkHtml;\n",
              "        element.appendChild(docLink);\n",
              "      }\n",
              "    </script>\n",
              "  </div>\n",
              "\n",
              "\n",
              "    <div id=\"df-4c4c7d6b-cfe5-46b3-83c8-bb48d5bc69c7\">\n",
              "      <button class=\"colab-df-quickchart\" onclick=\"quickchart('df-4c4c7d6b-cfe5-46b3-83c8-bb48d5bc69c7')\"\n",
              "                title=\"Suggest charts\"\n",
              "                style=\"display:none;\">\n",
              "\n",
              "<svg xmlns=\"http://www.w3.org/2000/svg\" height=\"24px\"viewBox=\"0 0 24 24\"\n",
              "     width=\"24px\">\n",
              "    <g>\n",
              "        <path d=\"M19 3H5c-1.1 0-2 .9-2 2v14c0 1.1.9 2 2 2h14c1.1 0 2-.9 2-2V5c0-1.1-.9-2-2-2zM9 17H7v-7h2v7zm4 0h-2V7h2v10zm4 0h-2v-4h2v4z\"/>\n",
              "    </g>\n",
              "</svg>\n",
              "      </button>\n",
              "\n",
              "<style>\n",
              "  .colab-df-quickchart {\n",
              "      --bg-color: #E8F0FE;\n",
              "      --fill-color: #1967D2;\n",
              "      --hover-bg-color: #E2EBFA;\n",
              "      --hover-fill-color: #174EA6;\n",
              "      --disabled-fill-color: #AAA;\n",
              "      --disabled-bg-color: #DDD;\n",
              "  }\n",
              "\n",
              "  [theme=dark] .colab-df-quickchart {\n",
              "      --bg-color: #3B4455;\n",
              "      --fill-color: #D2E3FC;\n",
              "      --hover-bg-color: #434B5C;\n",
              "      --hover-fill-color: #FFFFFF;\n",
              "      --disabled-bg-color: #3B4455;\n",
              "      --disabled-fill-color: #666;\n",
              "  }\n",
              "\n",
              "  .colab-df-quickchart {\n",
              "    background-color: var(--bg-color);\n",
              "    border: none;\n",
              "    border-radius: 50%;\n",
              "    cursor: pointer;\n",
              "    display: none;\n",
              "    fill: var(--fill-color);\n",
              "    height: 32px;\n",
              "    padding: 0;\n",
              "    width: 32px;\n",
              "  }\n",
              "\n",
              "  .colab-df-quickchart:hover {\n",
              "    background-color: var(--hover-bg-color);\n",
              "    box-shadow: 0 1px 2px rgba(60, 64, 67, 0.3), 0 1px 3px 1px rgba(60, 64, 67, 0.15);\n",
              "    fill: var(--button-hover-fill-color);\n",
              "  }\n",
              "\n",
              "  .colab-df-quickchart-complete:disabled,\n",
              "  .colab-df-quickchart-complete:disabled:hover {\n",
              "    background-color: var(--disabled-bg-color);\n",
              "    fill: var(--disabled-fill-color);\n",
              "    box-shadow: none;\n",
              "  }\n",
              "\n",
              "  .colab-df-spinner {\n",
              "    border: 2px solid var(--fill-color);\n",
              "    border-color: transparent;\n",
              "    border-bottom-color: var(--fill-color);\n",
              "    animation:\n",
              "      spin 1s steps(1) infinite;\n",
              "  }\n",
              "\n",
              "  @keyframes spin {\n",
              "    0% {\n",
              "      border-color: transparent;\n",
              "      border-bottom-color: var(--fill-color);\n",
              "      border-left-color: var(--fill-color);\n",
              "    }\n",
              "    20% {\n",
              "      border-color: transparent;\n",
              "      border-left-color: var(--fill-color);\n",
              "      border-top-color: var(--fill-color);\n",
              "    }\n",
              "    30% {\n",
              "      border-color: transparent;\n",
              "      border-left-color: var(--fill-color);\n",
              "      border-top-color: var(--fill-color);\n",
              "      border-right-color: var(--fill-color);\n",
              "    }\n",
              "    40% {\n",
              "      border-color: transparent;\n",
              "      border-right-color: var(--fill-color);\n",
              "      border-top-color: var(--fill-color);\n",
              "    }\n",
              "    60% {\n",
              "      border-color: transparent;\n",
              "      border-right-color: var(--fill-color);\n",
              "    }\n",
              "    80% {\n",
              "      border-color: transparent;\n",
              "      border-right-color: var(--fill-color);\n",
              "      border-bottom-color: var(--fill-color);\n",
              "    }\n",
              "    90% {\n",
              "      border-color: transparent;\n",
              "      border-bottom-color: var(--fill-color);\n",
              "    }\n",
              "  }\n",
              "</style>\n",
              "\n",
              "      <script>\n",
              "        async function quickchart(key) {\n",
              "          const quickchartButtonEl =\n",
              "            document.querySelector('#' + key + ' button');\n",
              "          quickchartButtonEl.disabled = true;  // To prevent multiple clicks.\n",
              "          quickchartButtonEl.classList.add('colab-df-spinner');\n",
              "          try {\n",
              "            const charts = await google.colab.kernel.invokeFunction(\n",
              "                'suggestCharts', [key], {});\n",
              "          } catch (error) {\n",
              "            console.error('Error during call to suggestCharts:', error);\n",
              "          }\n",
              "          quickchartButtonEl.classList.remove('colab-df-spinner');\n",
              "          quickchartButtonEl.classList.add('colab-df-quickchart-complete');\n",
              "        }\n",
              "        (() => {\n",
              "          let quickchartButtonEl =\n",
              "            document.querySelector('#df-4c4c7d6b-cfe5-46b3-83c8-bb48d5bc69c7 button');\n",
              "          quickchartButtonEl.style.display =\n",
              "            google.colab.kernel.accessAllowed ? 'block' : 'none';\n",
              "        })();\n",
              "      </script>\n",
              "    </div>\n",
              "\n",
              "    </div>\n",
              "  </div>\n"
            ],
            "application/vnd.google.colaboratory.intrinsic+json": {
              "type": "dataframe",
              "variable_name": "df",
              "summary": "{\n  \"name\": \"df\",\n  \"rows\": 5572,\n  \"fields\": [\n    {\n      \"column\": \"v1\",\n      \"properties\": {\n        \"dtype\": \"category\",\n        \"num_unique_values\": 2,\n        \"samples\": [\n          \"spam\",\n          \"ham\"\n        ],\n        \"semantic_type\": \"\",\n        \"description\": \"\"\n      }\n    },\n    {\n      \"column\": \"v2\",\n      \"properties\": {\n        \"dtype\": \"string\",\n        \"num_unique_values\": 5169,\n        \"samples\": [\n          \"Did u download the fring app?\",\n          \"Pass dis to all ur contacts n see wat u get! Red;i'm in luv wid u. Blue;u put a smile on my face. Purple;u r realy hot. Pink;u r so swt. Orange;i thnk i lyk u. Green;i realy wana go out wid u. Yelow;i wnt u bck. Black;i'm jealous of u. Brown;i miss you Nw plz giv me one color\"\n        ],\n        \"semantic_type\": \"\",\n        \"description\": \"\"\n      }\n    },\n    {\n      \"column\": \"Unnamed: 2\",\n      \"properties\": {\n        \"dtype\": \"category\",\n        \"num_unique_values\": 43,\n        \"samples\": [\n          \" GOD said\",\n          \" SHE SHUDVETOLD U. DID URGRAN KNOW?NEWAY\"\n        ],\n        \"semantic_type\": \"\",\n        \"description\": \"\"\n      }\n    },\n    {\n      \"column\": \"Unnamed: 3\",\n      \"properties\": {\n        \"dtype\": \"category\",\n        \"num_unique_values\": 10,\n        \"samples\": [\n          \" \\\\\\\"OH No! COMPETITION\\\\\\\". Who knew\",\n          \" why to miss them\"\n        ],\n        \"semantic_type\": \"\",\n        \"description\": \"\"\n      }\n    },\n    {\n      \"column\": \"Unnamed: 4\",\n      \"properties\": {\n        \"dtype\": \"category\",\n        \"num_unique_values\": 5,\n        \"samples\": [\n          \"GNT:-)\\\"\",\n          \" one day these two will become FREINDS FOREVER!\\\"\"\n        ],\n        \"semantic_type\": \"\",\n        \"description\": \"\"\n      }\n    }\n  ]\n}"
            }
          },
          "metadata": {},
          "execution_count": 34
        }
      ]
    },
    {
      "cell_type": "markdown",
      "source": [
        "**There are three columns in the dataset that make no sense so first i have to remove it from the dataset**"
      ],
      "metadata": {
        "id": "6P1-VX1BqOoG"
      }
    },
    {
      "cell_type": "code",
      "source": [
        "# removing unnecessary columns from the dataset\n",
        "df.drop(columns=['Unnamed: 2', 'Unnamed: 3', 'Unnamed: 4'], inplace=True)"
      ],
      "metadata": {
        "id": "ZU28PTOaqHGe"
      },
      "execution_count": null,
      "outputs": []
    },
    {
      "cell_type": "code",
      "source": [
        "# changing the name of the column V1->label and V2-> text\n",
        "df.rename(columns={'v1': 'label', 'v2': 'text'}, inplace=True)"
      ],
      "metadata": {
        "id": "rm1yOQy8qetS"
      },
      "execution_count": null,
      "outputs": []
    },
    {
      "cell_type": "code",
      "source": [
        "# information about the overall dataset\n",
        "df.info()"
      ],
      "metadata": {
        "colab": {
          "base_uri": "https://localhost:8080/"
        },
        "id": "xhHmL30_q5My",
        "outputId": "b5bb0a35-3a02-4d81-b98d-56d5446f1c23"
      },
      "execution_count": null,
      "outputs": [
        {
          "output_type": "stream",
          "name": "stdout",
          "text": [
            "<class 'pandas.core.frame.DataFrame'>\n",
            "RangeIndex: 5572 entries, 0 to 5571\n",
            "Data columns (total 2 columns):\n",
            " #   Column  Non-Null Count  Dtype \n",
            "---  ------  --------------  ----- \n",
            " 0   label   5572 non-null   object\n",
            " 1   text    5572 non-null   object\n",
            "dtypes: object(2)\n",
            "memory usage: 87.2+ KB\n"
          ]
        }
      ]
    },
    {
      "cell_type": "code",
      "source": [
        "# checking for the missing values\n",
        "\n",
        "df.isnull().sum()"
      ],
      "metadata": {
        "colab": {
          "base_uri": "https://localhost:8080/",
          "height": 147
        },
        "id": "vcwNBwYGq6z4",
        "outputId": "11628479-dd55-465f-b268-27ef28e34b41"
      },
      "execution_count": null,
      "outputs": [
        {
          "output_type": "execute_result",
          "data": {
            "text/plain": [
              "label    0\n",
              "text     0\n",
              "dtype: int64"
            ],
            "text/html": [
              "<div>\n",
              "<style scoped>\n",
              "    .dataframe tbody tr th:only-of-type {\n",
              "        vertical-align: middle;\n",
              "    }\n",
              "\n",
              "    .dataframe tbody tr th {\n",
              "        vertical-align: top;\n",
              "    }\n",
              "\n",
              "    .dataframe thead th {\n",
              "        text-align: right;\n",
              "    }\n",
              "</style>\n",
              "<table border=\"1\" class=\"dataframe\">\n",
              "  <thead>\n",
              "    <tr style=\"text-align: right;\">\n",
              "      <th></th>\n",
              "      <th>0</th>\n",
              "    </tr>\n",
              "  </thead>\n",
              "  <tbody>\n",
              "    <tr>\n",
              "      <th>label</th>\n",
              "      <td>0</td>\n",
              "    </tr>\n",
              "    <tr>\n",
              "      <th>text</th>\n",
              "      <td>0</td>\n",
              "    </tr>\n",
              "  </tbody>\n",
              "</table>\n",
              "</div><br><label><b>dtype:</b> int64</label>"
            ]
          },
          "metadata": {},
          "execution_count": 38
        }
      ]
    },
    {
      "cell_type": "code",
      "source": [
        "# checking for the duplicates in the dataset\n",
        "df.duplicated().sum()"
      ],
      "metadata": {
        "colab": {
          "base_uri": "https://localhost:8080/"
        },
        "id": "OW8HQBferE3N",
        "outputId": "41b5eaff-cbca-492a-f9ff-dd14fda8cea2"
      },
      "execution_count": null,
      "outputs": [
        {
          "output_type": "execute_result",
          "data": {
            "text/plain": [
              "np.int64(403)"
            ]
          },
          "metadata": {},
          "execution_count": 39
        }
      ]
    },
    {
      "cell_type": "code",
      "source": [
        "# removing duplicates from the dataset\n",
        "df.drop_duplicates(inplace=True)"
      ],
      "metadata": {
        "id": "gTP2l6d1sPK7"
      },
      "execution_count": null,
      "outputs": []
    },
    {
      "cell_type": "code",
      "source": [
        "# making sure that duplicates are removed or not\n",
        "df.duplicated().sum()"
      ],
      "metadata": {
        "colab": {
          "base_uri": "https://localhost:8080/"
        },
        "id": "88TcZwfRsm9Q",
        "outputId": "37213cfa-9005-4771-fa20-ea58223b974a"
      },
      "execution_count": null,
      "outputs": [
        {
          "output_type": "execute_result",
          "data": {
            "text/plain": [
              "np.int64(0)"
            ]
          },
          "metadata": {},
          "execution_count": 41
        }
      ]
    },
    {
      "cell_type": "code",
      "source": [
        "# Let's visualize the distribution of the 'label' column instead.\n",
        "plt.figure(figsize=(6, 4))\n",
        "sns.countplot(x='label', data=df)\n",
        "plt.title('Distribution of Spam and Ham Messages')\n",
        "plt.xlabel('Label')\n",
        "plt.ylabel('Count')\n",
        "plt.show()"
      ],
      "metadata": {
        "colab": {
          "base_uri": "https://localhost:8080/",
          "height": 410
        },
        "id": "UcBR2KYNsoB6",
        "outputId": "e0139038-83f4-47ae-cfac-243577f4ff02"
      },
      "execution_count": null,
      "outputs": [
        {
          "output_type": "display_data",
          "data": {
            "text/plain": [
              "<Figure size 600x400 with 1 Axes>"
            ],
            "image/png": "[encoded data removed]"
          },
          "metadata": {}
        }
      ]
    },
    {
      "cell_type": "markdown",
      "source": [
        "**The chart show the clear imbalance in the dataset. This imbalanced can mislead model**"
      ],
      "metadata": {
        "id": "SkzwZFrLgJYs"
      }
    },
    {
      "cell_type": "code",
      "source": [
        "df['text_length'] = df['text'].apply(len)\n",
        "\n",
        "# Visualize the distribution of text length by label\n",
        "plt.figure(figsize=(12, 6))\n",
        "sns.histplot(data=df, x='text_length', hue='label', kde=True, bins=50)\n",
        "plt.title('Distribution of Text Length by Label')\n",
        "plt.xlabel('Text Length')\n",
        "plt.ylabel('Frequency')\n",
        "plt.show()"
      ],
      "metadata": {
        "colab": {
          "base_uri": "https://localhost:8080/",
          "height": 564
        },
        "id": "SWECw7a38NIS",
        "outputId": "7e854111-61bd-4749-a1ae-18ed94c0288e"
      },
      "execution_count": null,
      "outputs": [
        {
          "output_type": "display_data",
          "data": {
            "text/plain": [
              "<Figure size 1200x600 with 1 Axes>"
            ],
            "image/png": "[encoded data removed]"
          },
          "metadata": {}
        }
      ]
    },
    {
      "cell_type": "markdown",
      "source": [
        "# Data Preprocessing"
      ],
      "metadata": {
        "id": "GrWPFEvchhY9"
      }
    },
    {
      "cell_type": "code",
      "source": [
        "df['label'] = df['label'].map({'ham': 0, 'spam': 1})"
      ],
      "metadata": {
        "id": "YFPHGA2_ijyt"
      },
      "execution_count": null,
      "outputs": []
    },
    {
      "cell_type": "markdown",
      "source": [
        "2. Preprocess the text data using TfidfVectorizer. What does TF-IDF represent, and why is it suitable for text data?\n",
        "\n",
        "**What is TF-IDF?**\n",
        "\n",
        "* TF: Term Frequency – how often a word appears in a document.\n",
        "\n",
        "* IDF: Inverse Document Frequency – how rare a word is across all documents.\n",
        "\n",
        "* TF-IDF: Highlights important words that appear frequently in one document but rarely across others.\n",
        "\n",
        "**Why it's suitable:**\n",
        "\n",
        "* It reduces the importance of common words (like \"the\", \"is\").\n",
        "\n",
        "* Captures meaningful patterns for classification."
      ],
      "metadata": {
        "id": "rMCasjzTjDpF"
      }
    },
    {
      "cell_type": "code",
      "source": [
        "# data embedding\n",
        "vectorizer = TfidfVectorizer(max_features = 3000)\n",
        "\n",
        "X = vectorizer.fit_transform(df['text']).toarray()\n",
        "y = df['label'].values"
      ],
      "metadata": {
        "id": "eeBXDOHKgXg5"
      },
      "execution_count": null,
      "outputs": []
    },
    {
      "cell_type": "code",
      "source": [
        "X"
      ],
      "metadata": {
        "colab": {
          "base_uri": "https://localhost:8080/"
        },
        "id": "oroyw59ti6iX",
        "outputId": "8a1e9080-2ec8-4748-cb1d-85854895c002"
      },
      "execution_count": null,
      "outputs": [
        {
          "output_type": "execute_result",
          "data": {
            "text/plain": [
              "array([[0., 0., 0., ..., 0., 0., 0.],\n",
              "       [0., 0., 0., ..., 0., 0., 0.],\n",
              "       [0., 0., 0., ..., 0., 0., 0.],\n",
              "       ...,\n",
              "       [0., 0., 0., ..., 0., 0., 0.],\n",
              "       [0., 0., 0., ..., 0., 0., 0.],\n",
              "       [0., 0., 0., ..., 0., 0., 0.]])"
            ]
          },
          "metadata": {},
          "execution_count": 45
        }
      ]
    },
    {
      "cell_type": "code",
      "source": [
        "y"
      ],
      "metadata": {
        "colab": {
          "base_uri": "https://localhost:8080/"
        },
        "id": "XP9i1KT_jCUd",
        "outputId": "79de8580-4366-4954-f9a2-0e139e11ae08"
      },
      "execution_count": null,
      "outputs": [
        {
          "output_type": "execute_result",
          "data": {
            "text/plain": [
              "array([0, 0, 1, ..., 0, 0, 0])"
            ]
          },
          "metadata": {},
          "execution_count": 46
        }
      ]
    },
    {
      "cell_type": "markdown",
      "source": [
        "# Train test Split\n"
      ],
      "metadata": {
        "id": "yG9_KD5WlJna"
      }
    },
    {
      "cell_type": "markdown",
      "source": [
        "3. Split the dataset into training (80%) and validation (20%) sets. What are the sizes of these sets?"
      ],
      "metadata": {
        "id": "lBF9uo0-j9C9"
      }
    },
    {
      "cell_type": "code",
      "source": [
        "X_train, X_test, y_train,y_test = train_test_split(X, y, test_size=0.2, random_state=42)"
      ],
      "metadata": {
        "id": "n0gdnjjfjFi9"
      },
      "execution_count": null,
      "outputs": []
    },
    {
      "cell_type": "markdown",
      "source": [
        "4. Convert the TF-IDF features and labels to PyTorch tensors. What is the shape of the feature matrix?"
      ],
      "metadata": {
        "id": "hoN72sX9juSa"
      }
    },
    {
      "cell_type": "code",
      "source": [
        "# dataset & Dataloader\n",
        "\n",
        "class spamDataset(Dataset):\n",
        "    def __init__(self, X, y):\n",
        "        self.X = torch.tensor(X, dtype=torch.float32)\n",
        "        self.y = torch.tensor(y, dtype=torch.float32)\n",
        "\n",
        "    def __len__(self):\n",
        "        return len(self.X)\n",
        "\n",
        "    def __getitem__(self, idx):\n",
        "        return self.X[idx], self.y[idx]\n",
        "\n",
        "train_dataset = spamDataset(X_train, y_train)\n",
        "test_dataset = spamDataset(X_test, y_test)"
      ],
      "metadata": {
        "id": "AOxkCy-TlTXn"
      },
      "execution_count": null,
      "outputs": []
    },
    {
      "cell_type": "markdown",
      "source": [
        "We create a custom dataset by subclassing `torch.utils.data.Dataset`.  \n",
        "This helps organize the data and allows PyTorch to load it efficiently.\n",
        "\n",
        "- `__init__`: Converts features and labels to PyTorch tensors.\n",
        "- `__len__`: Returns total number of samples.\n",
        "- `__getitem__`: Returns a single (input, label) pair by index.\n",
        "\n",
        "🔄 This class allows us to easily loop through the data during training."
      ],
      "metadata": {
        "id": "PWXJzEcilVZ6"
      }
    },
    {
      "cell_type": "markdown",
      "source": [
        "5. Create a DataLoader with batch size = 32. Print the first batch of inputs and targets."
      ],
      "metadata": {
        "id": "vzyLavAAkLTO"
      }
    },
    {
      "cell_type": "code",
      "source": [
        "train_loader = DataLoader(train_dataset, batch_size=32, shuffle=True)\n",
        "test_loader = DataLoader(test_dataset, batch_size=32, shuffle=False)"
      ],
      "metadata": {
        "id": "jYh1knUVmhsJ"
      },
      "execution_count": null,
      "outputs": []
    },
    {
      "cell_type": "markdown",
      "source": [
        "# logistic Regression Model"
      ],
      "metadata": {
        "id": "zEsKcKfXmmjC"
      }
    },
    {
      "cell_type": "markdown",
      "source": [
        "6. Define a SpamModel class using nn.Linear and sigmoid. Why is the sigmoid function used for logistic regression?\n",
        "\n",
        "Why use sigmoid?\n",
        "\n",
        "* Logistic Regression outputs a probability between 0 and 1.\n",
        "\n",
        "* sigmoid() squashes the linear output into the range [0, 1], making it interpretable as a probability."
      ],
      "metadata": {
        "id": "RK1rTw8JkUi9"
      }
    },
    {
      "cell_type": "code",
      "source": [
        "class spamClassifier(nn.Module):\n",
        "  def __init__(self, input_dim):\n",
        "    super(spamClassifier, self).__init__()\n",
        "    self.linear = nn.Linear(input_dim, 1)\n",
        "\n",
        "  def forward(self, x):\n",
        "    return self.linear(x)   # using logit not sigmoid here\n",
        "\n",
        "\n",
        "model= spamClassifier(input_dim=X.shape[1])"
      ],
      "metadata": {
        "id": "LWR1f-CrmmMp"
      },
      "execution_count": null,
      "outputs": []
    },
    {
      "cell_type": "markdown",
      "source": [
        "**We saw that data is imbalanced so will use a pos_weight for handling the data imbalanced.**"
      ],
      "metadata": {
        "id": "GE1fI9TCnXUT"
      }
    },
    {
      "cell_type": "code",
      "source": [
        "spam_count = np.sum(y_train == 1)\n",
        "ham_count = np.sum(y_train == 0)\n",
        "total_samples = len(y_train)"
      ],
      "metadata": {
        "id": "2q5S0VI5mjOV"
      },
      "execution_count": null,
      "outputs": []
    },
    {
      "cell_type": "code",
      "source": [
        "print(f\"Spam count: {spam_count}\")\n",
        "print(f\"Ham count: {ham_count}\")\n",
        "print(f\"Total samples: {total_samples}\")"
      ],
      "metadata": {
        "colab": {
          "base_uri": "https://localhost:8080/"
        },
        "id": "-b_6pIjenrIY",
        "outputId": "102cad01-466d-466c-8697-14e50b7ee918"
      },
      "execution_count": null,
      "outputs": [
        {
          "output_type": "stream",
          "name": "stdout",
          "text": [
            "Spam count: 508\n",
            "Ham count: 3627\n",
            "Total samples: 4135\n"
          ]
        }
      ]
    },
    {
      "cell_type": "code",
      "source": [
        "pos_weight = torch.tensor([ham_count/spam_count], dtype = torch.float32)"
      ],
      "metadata": {
        "id": "S3YjsH20nwLi"
      },
      "execution_count": null,
      "outputs": []
    },
    {
      "cell_type": "code",
      "source": [
        "criterion = nn.BCEWithLogitsLoss(pos_weight=pos_weight)\n",
        "optimizer = torch.optim.Adam(model.parameters(), lr=0.001)"
      ],
      "metadata": {
        "id": "AkMjg_7koGsi"
      },
      "execution_count": null,
      "outputs": []
    },
    {
      "cell_type": "markdown",
      "source": [
        "# Model Training\n",
        "\n",
        "7. Train the model for 100 epochs with lr=1e-3 using BCELoss. Plot the validation loss over epochs."
      ],
      "metadata": {
        "id": "lWlULimGof8P"
      }
    },
    {
      "cell_type": "code",
      "source": [
        "def train_model(model, train_loader, test_loader, epochs = 100):\n",
        "  val_losses = []\n",
        "  train_losses = []\n",
        "\n",
        "  for epoch in range(epochs):\n",
        "    model.train()\n",
        "    total_train_loss = 0\n",
        "    for xb,yb in train_loader:\n",
        "      preds = model(xb).squeeze()\n",
        "      loss = criterion(preds,yb)\n",
        "      loss.backward()\n",
        "      optimizer.step()\n",
        "      optimizer.zero_grad()\n",
        "      total_train_loss += loss.item()\n",
        "\n",
        "    train_loss = total_train_loss / len(train_loader)\n",
        "    train_losses.append(train_loss)\n",
        "\n",
        "\n",
        "    # model validation\n",
        "    model.eval()\n",
        "    with torch.no_grad():\n",
        "      val_loss = sum(criterion(model(xb).squeeze(), yb).item() for xb, yb in test_loader) / len(test_loader)\n",
        "      val_losses.append(val_loss)\n",
        "\n",
        "\n",
        "    if (epoch+1) % 10 == 0 or epoch == 0:\n",
        "      print(f\"Epoch [{epoch+1}/{epochs}], Train Loss: {train_loss:.4f} Validation Loss: {val_loss:.4f}\")\n",
        "\n",
        "  return train_losses, val_losses\n",
        "\n",
        "\n",
        "\n",
        "train_losses, val_losses = train_model(model, train_loader, test_loader)"
      ],
      "metadata": {
        "colab": {
          "base_uri": "https://localhost:8080/"
        },
        "id": "oeD0EfcwoOFQ",
        "outputId": "d1fd229d-96f4-424d-902d-1e27613bf2f2"
      },
      "execution_count": null,
      "outputs": [
        {
          "output_type": "stream",
          "name": "stdout",
          "text": [
            "Epoch [1/100], Train Loss: 1.1766 Validation Loss: 1.2032\n",
            "Epoch [10/100], Train Loss: 0.6772 Validation Loss: 0.7117\n",
            "Epoch [20/100], Train Loss: 0.4302 Validation Loss: 0.4758\n",
            "Epoch [30/100], Train Loss: 0.3043 Validation Loss: 0.3574\n",
            "Epoch [40/100], Train Loss: 0.2294 Validation Loss: 0.2908\n",
            "Epoch [50/100], Train Loss: 0.1815 Validation Loss: 0.2492\n",
            "Epoch [60/100], Train Loss: 0.1462 Validation Loss: 0.2225\n",
            "Epoch [70/100], Train Loss: 0.1208 Validation Loss: 0.2049\n",
            "Epoch [80/100], Train Loss: 0.1024 Validation Loss: 0.1938\n",
            "Epoch [90/100], Train Loss: 0.0875 Validation Loss: 0.1869\n",
            "Epoch [100/100], Train Loss: 0.0751 Validation Loss: 0.1828\n"
          ]
        }
      ]
    },
    {
      "cell_type": "markdown",
      "source": [
        "# Model Evaluation\n",
        "\n",
        "8. Evaluate the model on the validation set. Report accuracy, precision, recall, and AUC."
      ],
      "metadata": {
        "id": "qB1d6jdvswal"
      }
    },
    {
      "cell_type": "code",
      "source": [
        "plt.plot(train_losses, label='Train Loss')\n",
        "plt.plot(val_losses, label='Validation Loss')\n",
        "plt.title(\"Training vs Validation Loss\")\n",
        "plt.xlabel(\"Epoch\")\n",
        "plt.ylabel(\"Loss\")\n",
        "plt.legend()\n",
        "plt.grid(True)\n",
        "plt.show()\n"
      ],
      "metadata": {
        "colab": {
          "base_uri": "https://localhost:8080/",
          "height": 472
        },
        "id": "BlSRheugqLyc",
        "outputId": "343035ab-e3b3-4fbe-c71c-fbe01d93c430"
      },
      "execution_count": null,
      "outputs": [
        {
          "output_type": "display_data",
          "data": {
            "text/plain": [
              "<Figure size 640x480 with 1 Axes>"
            ],
            "image/png": "[encoded data removed]"
          },
          "metadata": {}
        }
      ]
    },
    {
      "cell_type": "code",
      "source": [
        "model.eval()\n",
        "all_preds = []\n",
        "all_labels = []\n",
        "\n",
        "with torch.no_grad():\n",
        "  for xb, yb in test_loader:\n",
        "    outputs = model(xb).squeeze()\n",
        "    preds = torch.sigmoid(outputs)\n",
        "    predicted_classes = (preds > 0.5).long()\n",
        "    all_preds.extend(predicted_classes.tolist())\n",
        "    all_labels.extend(yb.tolist())\n",
        "\n",
        "# Convert to numpy arrays\n",
        "all_preds = np.array(all_preds)\n",
        "all_labels = np.array(all_labels)\n",
        "\n",
        "# Calculate metrics\n",
        "accuracy = accuracy_score(all_labels, all_preds)\n",
        "precision = precision_score(all_labels, all_preds)\n",
        "recall = recall_score(all_labels, all_preds)\n",
        "conf_matrix = confusion_matrix(all_labels, all_preds)\n",
        "class_report = classification_report(all_labels, all_preds, target_names=['ham', 'spam'])\n",
        "\n",
        "print(f\"Accuracy: {accuracy:.4f}\")\n",
        "print(f\"Precision: {precision:.4f}\")\n",
        "print(f\"Recall: {recall:.4f}\")\n",
        "print(\"\\nConfusion Matrix:\")\n",
        "print(conf_matrix)\n",
        "print(\"\\nClassification Report:\")\n",
        "print(class_report)\n",
        "\n",
        "# Plot confusion matrix\n",
        "plt.figure(figsize=(8, 6))\n",
        "sns.heatmap(conf_matrix, annot=True, fmt='d', cmap='Blues', xticklabels=['ham', 'spam'], yticklabels=['ham', 'spam'])\n",
        "plt.title('Confusion Matrix')\n",
        "plt.xlabel('Predicted Label')\n",
        "plt.ylabel('True Label')\n",
        "plt.show()\n"
      ],
      "metadata": {
        "colab": {
          "base_uri": "https://localhost:8080/",
          "height": 876
        },
        "id": "h7Hhd-Z7sdGH",
        "outputId": "86cf4e2f-f418-4b11-9736-8d24b00663c5"
      },
      "execution_count": null,
      "outputs": [
        {
          "output_type": "stream",
          "name": "stdout",
          "text": [
            "Accuracy: 0.9836\n",
            "Precision: 0.9324\n",
            "Recall: 0.9517\n",
            "\n",
            "Confusion Matrix:\n",
            "[[879  10]\n",
            " [  7 138]]\n",
            "\n",
            "Classification Report:\n",
            "              precision    recall  f1-score   support\n",
            "\n",
            "         ham       0.99      0.99      0.99       889\n",
            "        spam       0.93      0.95      0.94       145\n",
            "\n",
            "    accuracy                           0.98      1034\n",
            "   macro avg       0.96      0.97      0.97      1034\n",
            "weighted avg       0.98      0.98      0.98      1034\n",
            "\n"
          ]
        },
        {
          "output_type": "display_data",
          "data": {
            "text/plain": [
              "<Figure size 800x600 with 2 Axes>"
            ],
            "image/png": "[encoded data removed]"
          },
          "metadata": {}
        }
      ]
    },
    {
      "cell_type": "markdown",
      "source": [
        "9. Make predictions for three validation samples. Compare predictions with actual labels."
      ],
      "metadata": {
        "id": "j8sWZd12mHw3"
      }
    },
    {
      "cell_type": "code",
      "source": [
        "def predict_message(model, vectorizer, message):\n",
        "    \"\"\"\n",
        "    Performs inference on a single message.\n",
        "\n",
        "    Args:\n",
        "        model (nn.Module): The trained PyTorch model.\n",
        "        vectorizer (TfidfVectorizer): The fitted TF-IDF vectorizer.\n",
        "        message (str): The input message string.\n",
        "\n",
        "    Returns:\n",
        "        tuple: A tuple containing the predicted label (0 for ham, 1 for spam)\n",
        "               and the predicted probability of being spam.\n",
        "    \"\"\"\n",
        "    model.eval() # Set model to evaluation mode\n",
        "    with torch.no_grad():\n",
        "        # Transform the message using the fitted vectorizer\n",
        "        message_vector = vectorizer.transform([message]).toarray()\n",
        "        # Convert to PyTorch tensor\n",
        "        message_tensor = torch.tensor(message_vector, dtype=torch.float32)\n",
        "\n",
        "        # Get the model output (logits)\n",
        "        output = model(message_tensor).squeeze()\n",
        "\n",
        "        # Apply sigmoid to get probability\n",
        "        probability = torch.sigmoid(output)\n",
        "\n",
        "        # Predict the class based on probability threshold (0.5)\n",
        "        predicted_class = (probability > 0.5).long().item()\n",
        "\n",
        "        return predicted_class, probability.item()\n",
        "\n",
        "def check_inference(model, vectorizer, test_message, actual_label_str):\n",
        "    \"\"\"\n",
        "    Performs inference on a test message, explains the process,\n",
        "    and prints the results.\n",
        "\n",
        "    Args:\n",
        "        model (nn.Module): The trained PyTorch model.\n",
        "        vectorizer (TfidfVectorizer): The fitted TF-IDF vectorizer.\n",
        "        test_message (str): The test message string.\n",
        "        actual_label_str (str): The actual label of the message ('ham' or 'spam').\n",
        "    \"\"\"\n",
        "    print(\"-\" * 50)\n",
        "    print(\"Performing Inference on a Test Message:\")\n",
        "    print(f\"Input Message: '{test_message}'\")\n",
        "    print(f\"Actual Label: {actual_label_str}\")\n",
        "    print(\"-\" * 50)\n",
        "\n",
        "    # Perform the prediction\n",
        "    predicted_label_int, predicted_prob = predict_message(model, vectorizer, test_message)\n",
        "\n",
        "    # Map integer label back to string\n",
        "    predicted_label_str = 'spam' if predicted_label_int == 1 else 'ham'\n",
        "\n",
        "    print(\"\\nInference Process:\")\n",
        "    print(\"1. The input message is first transformed into a numerical feature vector using the pre-trained TF-IDF vectorizer.\")\n",
        "    print(\"2. This feature vector is then passed through the trained Logistic Regression model (a linear layer).\")\n",
        "    print(\"3. The model outputs a raw score (logit).\")\n",
        "    print(\"4. A sigmoid function is applied to the raw score to get a probability between 0 and 1.\")\n",
        "    print(\"5. If the probability is greater than 0.5, the message is classified as 'spam', otherwise it's classified as 'ham'.\")\n",
        "\n",
        "    print(\"\\nInference Results:\")\n",
        "    print(f\"Predicted Probability (of being spam): {predicted_prob:.4f}\")\n",
        "    print(f\"Predicted Label: {predicted_label_str}\")\n",
        "\n",
        "    # Check if the prediction matches the actual label\n",
        "    prediction_match = predicted_label_str == actual_label_str\n",
        "    print(f\"Model Prediction is Correct: {prediction_match}\")\n",
        "    print(\"-\" * 50)\n",
        "\n",
        "\n",
        "# Example Usage:\n",
        "# You can pick messages from your original dataframe or create new ones.\n",
        "# Let's pick a couple of examples from the test set's text column.\n",
        "# Ensure you have access to the original df['text'] and df['label']\n",
        "# from the preceding code.\n",
        "\n",
        "# Find an example 'ham' message from the original data (before train/test split)\n",
        "ham_messages = df[df['label'] == 0]['text'].tolist()\n",
        "test_ham_message = ham_messages[0] if ham_messages else \"This is a normal message.\"\n",
        "\n",
        "# Find an example 'spam' message from the original data (before train/test split)\n",
        "spam_messages = df[df['label'] == 1]['text'].tolist()\n",
        "test_spam_message = spam_messages[0] if spam_messages else \"WINNER! Click here to claim your prize.\"\n",
        "\n",
        "\n",
        "# Perform inference and check for a ham message\n",
        "check_inference(model, vectorizer, test_ham_message, 'ham')\n",
        "\n",
        "# Perform inference and check for a spam message\n",
        "check_inference(model, vectorizer, test_spam_message, 'spam')\n",
        "\n",
        "# You can also try your own custom messages:\n",
        "custom_ham_message = \"Hey, what are you doing tonight?\"\n",
        "custom_spam_message = \"URGENT! You have won a FREE lottery ticket. Claim now!\"\n",
        "\n",
        "check_inference(model, vectorizer, custom_ham_message, 'ham') # Assuming this is ham\n",
        "check_inference(model, vectorizer, custom_spam_message, 'spam') # Assuming this is spam"
      ],
      "metadata": {
        "colab": {
          "base_uri": "https://localhost:8080/"
        },
        "id": "qaz2A3Ktwl2d",
        "outputId": "932ed93a-97c7-49bc-e636-72bec43584ce"
      },
      "execution_count": null,
      "outputs": [
        {
          "output_type": "stream",
          "name": "stdout",
          "text": [
            "--------------------------------------------------\n",
            "Performing Inference on a Test Message:\n",
            "Input Message: 'Go until jurong point, crazy.. Available only in bugis n great world la e buffet... Cine there got amore wat...'\n",
            "Actual Label: ham\n",
            "--------------------------------------------------\n",
            "\n",
            "Inference Process:\n",
            "1. The input message is first transformed into a numerical feature vector using the pre-trained TF-IDF vectorizer.\n",
            "2. This feature vector is then passed through the trained Logistic Regression model (a linear layer).\n",
            "3. The model outputs a raw score (logit).\n",
            "4. A sigmoid function is applied to the raw score to get a probability between 0 and 1.\n",
            "5. If the probability is greater than 0.5, the message is classified as 'spam', otherwise it's classified as 'ham'.\n",
            "\n",
            "Inference Results:\n",
            "Predicted Probability (of being spam): 0.0051\n",
            "Predicted Label: ham\n",
            "Model Prediction is Correct: True\n",
            "--------------------------------------------------\n",
            "--------------------------------------------------\n",
            "Performing Inference on a Test Message:\n",
            "Input Message: 'Free entry in 2 a wkly comp to win FA Cup final tkts 21st May 2005. Text FA to 87121 to receive entry question(std txt rate)T&C's apply 08452810075over18's'\n",
            "Actual Label: spam\n",
            "--------------------------------------------------\n",
            "\n",
            "Inference Process:\n",
            "1. The input message is first transformed into a numerical feature vector using the pre-trained TF-IDF vectorizer.\n",
            "2. This feature vector is then passed through the trained Logistic Regression model (a linear layer).\n",
            "3. The model outputs a raw score (logit).\n",
            "4. A sigmoid function is applied to the raw score to get a probability between 0 and 1.\n",
            "5. If the probability is greater than 0.5, the message is classified as 'spam', otherwise it's classified as 'ham'.\n",
            "\n",
            "Inference Results:\n",
            "Predicted Probability (of being spam): 0.9960\n",
            "Predicted Label: spam\n",
            "Model Prediction is Correct: True\n",
            "--------------------------------------------------\n",
            "--------------------------------------------------\n",
            "Performing Inference on a Test Message:\n",
            "Input Message: 'Hey, what are you doing tonight?'\n",
            "Actual Label: ham\n",
            "--------------------------------------------------\n",
            "\n",
            "Inference Process:\n",
            "1. The input message is first transformed into a numerical feature vector using the pre-trained TF-IDF vectorizer.\n",
            "2. This feature vector is then passed through the trained Logistic Regression model (a linear layer).\n",
            "3. The model outputs a raw score (logit).\n",
            "4. A sigmoid function is applied to the raw score to get a probability between 0 and 1.\n",
            "5. If the probability is greater than 0.5, the message is classified as 'spam', otherwise it's classified as 'ham'.\n",
            "\n",
            "Inference Results:\n",
            "Predicted Probability (of being spam): 0.0038\n",
            "Predicted Label: ham\n",
            "Model Prediction is Correct: True\n",
            "--------------------------------------------------\n",
            "--------------------------------------------------\n",
            "Performing Inference on a Test Message:\n",
            "Input Message: 'URGENT! You have won a FREE lottery ticket. Claim now!'\n",
            "Actual Label: spam\n",
            "--------------------------------------------------\n",
            "\n",
            "Inference Process:\n",
            "1. The input message is first transformed into a numerical feature vector using the pre-trained TF-IDF vectorizer.\n",
            "2. This feature vector is then passed through the trained Logistic Regression model (a linear layer).\n",
            "3. The model outputs a raw score (logit).\n",
            "4. A sigmoid function is applied to the raw score to get a probability between 0 and 1.\n",
            "5. If the probability is greater than 0.5, the message is classified as 'spam', otherwise it's classified as 'ham'.\n",
            "\n",
            "Inference Results:\n",
            "Predicted Probability (of being spam): 0.9886\n",
            "Predicted Label: spam\n",
            "Model Prediction is Correct: True\n",
            "--------------------------------------------------\n"
          ]
        }
      ]
    },
    {
      "cell_type": "markdown",
      "source": [
        "10. Discuss one challenge faced during preprocessing or training and how you addressed it.\n",
        "\n",
        "**Challenge:**\n",
        "\n",
        "The dataset was highly imbalanced with far more \"ham\" than \"spam\" messages.\n",
        "\n",
        "**Solution:**\n",
        "\n",
        "Handled this using the **pos_weight** parameter in **BCEWithLogitsLoss** in an alternative version of the model.\n",
        "\n",
        "This approach helped improve recall and precision for the spam class without changing the dataset structure."
      ],
      "metadata": {
        "id": "KJ3FRLpUmRdV"
      }
    },
    {
      "cell_type": "markdown",
      "source": [
        "# Model Save"
      ],
      "metadata": {
        "id": "xAxCYNxStMED"
      }
    },
    {
      "cell_type": "code",
      "source": [
        "import pickle\n",
        "\n",
        "# Save the trained model\n",
        "with open('spam_classifier_model.pkl', 'wb') as f:\n",
        "    pickle.dump(model, f)\n",
        "\n",
        "# Save the TF-IDF vectorizer as well, as it's needed for prediction\n",
        "with open('tfidf_vectorizer.pkl', 'wb') as f:\n",
        "    pickle.dump(vectorizer, f)\n",
        "\n",
        "print(\"Model and vectorizer saved.\")"
      ],
      "metadata": {
        "colab": {
          "base_uri": "https://localhost:8080/"
        },
        "id": "7lASNRBqtLxz",
        "outputId": "cbb6fac7-4cd2-4a7f-8ffe-0c1106410613"
      },
      "execution_count": null,
      "outputs": [
        {
          "output_type": "stream",
          "name": "stdout",
          "text": [
            "Model and vectorizer saved.\n"
          ]
        }
      ]
    }
  ]
}