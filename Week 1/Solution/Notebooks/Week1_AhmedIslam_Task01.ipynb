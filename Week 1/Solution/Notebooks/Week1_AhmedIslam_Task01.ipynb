{
  "nbformat": 4,
  "nbformat_minor": 0,
  "metadata": {
    "colab": {
      "provenance": []
    },
    "kernelspec": {
      "name": "python3",
      "display_name": "Python 3"
    },
    "language_info": {
      "name": "python"
    }
  },
  "cells": [
    {
      "cell_type": "markdown",
      "source": [
        "# 📊 Insurance Cost Prediction using Linear Regression\n",
        "\n",
        "> _This notebook implements a linear regression model to predict insurance costs based on various features like age, BMI, smoking status, etc._\n",
        "\n",
        "---\n",
        "\n",
        "### 👤 Intern Details\n",
        "\n",
        "- **Intern Name**: **Ahmed Islam**  \n",
        "- **Department**: Artificial Intelligence\n",
        "- **Designation**: AI Intern  \n",
        "- **Organization**: IR Solutions  \n",
        "\n",
        "---\n",
        "\n",
        "### 🎯 Project Overview\n",
        "\n",
        "The goal of this project is to build a machine learning model using **Linear Regression** (via **PyTorch**) to predict yearly medical insurance charges.\n",
        "\n",
        "#### 🔍 Key Steps:\n",
        "\n",
        "- 📥 **Load and explore** the insurance dataset  \n",
        "- 🧹 **Preprocess** data (handle categorical variables, encode features)  \n",
        "- 🛠️ **Build** a linear regression model using **PyTorch**  \n",
        "- 🏋️ **Train and evaluate** the model using MSE loss  \n",
        "- 📈 **Make predictions** and visualize results  \n",
        "- 💾 **Save** the trained model for future use  \n",
        "\n"
      ],
      "metadata": {
        "id": "WvjaKCigKj8d"
      }
    },
    {
      "cell_type": "code",
      "execution_count": 13,
      "metadata": {
        "id": "YNeRo_Ql0ekt"
      },
      "outputs": [],
      "source": [
        "# importing all the necessary libraries\n",
        "\n",
        "import torch\n",
        "import torch.nn as nn\n",
        "from torch.utils.data import Dataset, DataLoader\n",
        "import pandas as pd\n",
        "import numpy as np\n",
        "from sklearn.model_selection import train_test_split\n",
        "from sklearn.preprocessing import StandardScaler, LabelEncoder\n",
        "from sklearn.metrics import r2_score, mean_absolute_error\n",
        "import matplotlib.pyplot as plt\n",
        "import seaborn as sns\n",
        "import pickle\n",
        "import pickle\n",
        "import warnings\n",
        "warnings.filterwarnings('ignore')\n"
      ]
    },
    {
      "cell_type": "code",
      "source": [
        "def load_insurance_data(file_path):\n",
        "    \"\"\"Load the insurance dataset from CSV file.\n",
        "\n",
        "    Args:\n",
        "        file_path (str): Path to the CSV file\n",
        "\n",
        "    Returns:\n",
        "        pd.DataFrame: Loaded insurance dataset\n",
        "    \"\"\"\n",
        "    try:\n",
        "        df = pd.read_csv(file_path)\n",
        "        print(\"Dataset loaded successfully.\")\n",
        "        return df\n",
        "    except FileNotFoundError:\n",
        "        print(\"Error: File not found. Please check the file path.\")\n",
        "        return None\n",
        "\n",
        "# Load the dataset\n",
        "insurance_df = load_insurance_data(\"/content/insurance_data.csv\") # define the path of the dataset"
      ],
      "metadata": {
        "colab": {
          "base_uri": "https://localhost:8080/"
        },
        "id": "b3VH9KkzN-Ye",
        "outputId": "1f48678b-b0cf-49ae-c5bf-0aa6a63b4bcf"
      },
      "execution_count": 14,
      "outputs": [
        {
          "output_type": "stream",
          "name": "stdout",
          "text": [
            "Dataset loaded successfully.\n"
          ]
        }
      ]
    },
    {
      "cell_type": "code",
      "source": [
        "# checking the top 5 rows of the dataset\n",
        "insurance_df.head()"
      ],
      "metadata": {
        "colab": {
          "base_uri": "https://localhost:8080/",
          "height": 206
        },
        "id": "uRiOaKKE2xM4",
        "outputId": "a7598eb4-32f0-4100-b87d-def9cb772aeb"
      },
      "execution_count": 15,
      "outputs": [
        {
          "output_type": "execute_result",
          "data": {
            "text/plain": [
              "   age     sex     bmi  children smoker     region      charges\n",
              "0   19  female  27.900         0    yes  southwest  16884.92400\n",
              "1   18    male  33.770         1     no  southeast   1725.55230\n",
              "2   28    male  33.000         3     no  southeast   4449.46200\n",
              "3   33    male  22.705         0     no  northwest  21984.47061\n",
              "4   32    male  28.880         0     no  northwest   3866.85520"
            ],
            "text/html": [
              "\n",
              "  <div id=\"df-59a4f522-18da-479b-94a0-6ec34f55a3f7\" class=\"colab-df-container\">\n",
              "    <div>\n",
              "<style scoped>\n",
              "    .dataframe tbody tr th:only-of-type {\n",
              "        vertical-align: middle;\n",
              "    }\n",
              "\n",
              "    .dataframe tbody tr th {\n",
              "        vertical-align: top;\n",
              "    }\n",
              "\n",
              "    .dataframe thead th {\n",
              "        text-align: right;\n",
              "    }\n",
              "</style>\n",
              "<table border=\"1\" class=\"dataframe\">\n",
              "  <thead>\n",
              "    <tr style=\"text-align: right;\">\n",
              "      <th></th>\n",
              "      <th>age</th>\n",
              "      <th>sex</th>\n",
              "      <th>bmi</th>\n",
              "      <th>children</th>\n",
              "      <th>smoker</th>\n",
              "      <th>region</th>\n",
              "      <th>charges</th>\n",
              "    </tr>\n",
              "  </thead>\n",
              "  <tbody>\n",
              "    <tr>\n",
              "      <th>0</th>\n",
              "      <td>19</td>\n",
              "      <td>female</td>\n",
              "      <td>27.900</td>\n",
              "      <td>0</td>\n",
              "      <td>yes</td>\n",
              "      <td>southwest</td>\n",
              "      <td>16884.92400</td>\n",
              "    </tr>\n",
              "    <tr>\n",
              "      <th>1</th>\n",
              "      <td>18</td>\n",
              "      <td>male</td>\n",
              "      <td>33.770</td>\n",
              "      <td>1</td>\n",
              "      <td>no</td>\n",
              "      <td>southeast</td>\n",
              "      <td>1725.55230</td>\n",
              "    </tr>\n",
              "    <tr>\n",
              "      <th>2</th>\n",
              "      <td>28</td>\n",
              "      <td>male</td>\n",
              "      <td>33.000</td>\n",
              "      <td>3</td>\n",
              "      <td>no</td>\n",
              "      <td>southeast</td>\n",
              "      <td>4449.46200</td>\n",
              "    </tr>\n",
              "    <tr>\n",
              "      <th>3</th>\n",
              "      <td>33</td>\n",
              "      <td>male</td>\n",
              "      <td>22.705</td>\n",
              "      <td>0</td>\n",
              "      <td>no</td>\n",
              "      <td>northwest</td>\n",
              "      <td>21984.47061</td>\n",
              "    </tr>\n",
              "    <tr>\n",
              "      <th>4</th>\n",
              "      <td>32</td>\n",
              "      <td>male</td>\n",
              "      <td>28.880</td>\n",
              "      <td>0</td>\n",
              "      <td>no</td>\n",
              "      <td>northwest</td>\n",
              "      <td>3866.85520</td>\n",
              "    </tr>\n",
              "  </tbody>\n",
              "</table>\n",
              "</div>\n",
              "    <div class=\"colab-df-buttons\">\n",
              "\n",
              "  <div class=\"colab-df-container\">\n",
              "    <button class=\"colab-df-convert\" onclick=\"convertToInteractive('df-59a4f522-18da-479b-94a0-6ec34f55a3f7')\"\n",
              "            title=\"Convert this dataframe to an interactive table.\"\n",
              "            style=\"display:none;\">\n",
              "\n",
              "  <svg xmlns=\"http://www.w3.org/2000/svg\" height=\"24px\" viewBox=\"0 -960 960 960\">\n",
              "    <path d=\"M120-120v-720h720v720H120Zm60-500h600v-160H180v160Zm220 220h160v-160H400v160Zm0 220h160v-160H400v160ZM180-400h160v-160H180v160Zm440 0h160v-160H620v160ZM180-180h160v-160H180v160Zm440 0h160v-160H620v160Z\"/>\n",
              "  </svg>\n",
              "    </button>\n",
              "\n",
              "  <style>\n",
              "    .colab-df-container {\n",
              "      display:flex;\n",
              "      gap: 12px;\n",
              "    }\n",
              "\n",
              "    .colab-df-convert {\n",
              "      background-color: #E8F0FE;\n",
              "      border: none;\n",
              "      border-radius: 50%;\n",
              "      cursor: pointer;\n",
              "      display: none;\n",
              "      fill: #1967D2;\n",
              "      height: 32px;\n",
              "      padding: 0 0 0 0;\n",
              "      width: 32px;\n",
              "    }\n",
              "\n",
              "    .colab-df-convert:hover {\n",
              "      background-color: #E2EBFA;\n",
              "      box-shadow: 0px 1px 2px rgba(60, 64, 67, 0.3), 0px 1px 3px 1px rgba(60, 64, 67, 0.15);\n",
              "      fill: #174EA6;\n",
              "    }\n",
              "\n",
              "    .colab-df-buttons div {\n",
              "      margin-bottom: 4px;\n",
              "    }\n",
              "\n",
              "    [theme=dark] .colab-df-convert {\n",
              "      background-color: #3B4455;\n",
              "      fill: #D2E3FC;\n",
              "    }\n",
              "\n",
              "    [theme=dark] .colab-df-convert:hover {\n",
              "      background-color: #434B5C;\n",
              "      box-shadow: 0px 1px 3px 1px rgba(0, 0, 0, 0.15);\n",
              "      filter: drop-shadow(0px 1px 2px rgba(0, 0, 0, 0.3));\n",
              "      fill: #FFFFFF;\n",
              "    }\n",
              "  </style>\n",
              "\n",
              "    <script>\n",
              "      const buttonEl =\n",
              "        document.querySelector('#df-59a4f522-18da-479b-94a0-6ec34f55a3f7 button.colab-df-convert');\n",
              "      buttonEl.style.display =\n",
              "        google.colab.kernel.accessAllowed ? 'block' : 'none';\n",
              "\n",
              "      async function convertToInteractive(key) {\n",
              "        const element = document.querySelector('#df-59a4f522-18da-479b-94a0-6ec34f55a3f7');\n",
              "        const dataTable =\n",
              "          await google.colab.kernel.invokeFunction('convertToInteractive',\n",
              "                                                    [key], {});\n",
              "        if (!dataTable) return;\n",
              "\n",
              "        const docLinkHtml = 'Like what you see? Visit the ' +\n",
              "          '<a target=\"_blank\" href=https://colab.research.google.com/notebooks/data_table.ipynb>data table notebook</a>'\n",
              "          + ' to learn more about interactive tables.';\n",
              "        element.innerHTML = '';\n",
              "        dataTable['output_type'] = 'display_data';\n",
              "        await google.colab.output.renderOutput(dataTable, element);\n",
              "        const docLink = document.createElement('div');\n",
              "        docLink.innerHTML = docLinkHtml;\n",
              "        element.appendChild(docLink);\n",
              "      }\n",
              "    </script>\n",
              "  </div>\n",
              "\n",
              "\n",
              "    <div id=\"df-f6d02165-6736-4b92-a971-785f0eaa2466\">\n",
              "      <button class=\"colab-df-quickchart\" onclick=\"quickchart('df-f6d02165-6736-4b92-a971-785f0eaa2466')\"\n",
              "                title=\"Suggest charts\"\n",
              "                style=\"display:none;\">\n",
              "\n",
              "<svg xmlns=\"http://www.w3.org/2000/svg\" height=\"24px\"viewBox=\"0 0 24 24\"\n",
              "     width=\"24px\">\n",
              "    <g>\n",
              "        <path d=\"M19 3H5c-1.1 0-2 .9-2 2v14c0 1.1.9 2 2 2h14c1.1 0 2-.9 2-2V5c0-1.1-.9-2-2-2zM9 17H7v-7h2v7zm4 0h-2V7h2v10zm4 0h-2v-4h2v4z\"/>\n",
              "    </g>\n",
              "</svg>\n",
              "      </button>\n",
              "\n",
              "<style>\n",
              "  .colab-df-quickchart {\n",
              "      --bg-color: #E8F0FE;\n",
              "      --fill-color: #1967D2;\n",
              "      --hover-bg-color: #E2EBFA;\n",
              "      --hover-fill-color: #174EA6;\n",
              "      --disabled-fill-color: #AAA;\n",
              "      --disabled-bg-color: #DDD;\n",
              "  }\n",
              "\n",
              "  [theme=dark] .colab-df-quickchart {\n",
              "      --bg-color: #3B4455;\n",
              "      --fill-color: #D2E3FC;\n",
              "      --hover-bg-color: #434B5C;\n",
              "      --hover-fill-color: #FFFFFF;\n",
              "      --disabled-bg-color: #3B4455;\n",
              "      --disabled-fill-color: #666;\n",
              "  }\n",
              "\n",
              "  .colab-df-quickchart {\n",
              "    background-color: var(--bg-color);\n",
              "    border: none;\n",
              "    border-radius: 50%;\n",
              "    cursor: pointer;\n",
              "    display: none;\n",
              "    fill: var(--fill-color);\n",
              "    height: 32px;\n",
              "    padding: 0;\n",
              "    width: 32px;\n",
              "  }\n",
              "\n",
              "  .colab-df-quickchart:hover {\n",
              "    background-color: var(--hover-bg-color);\n",
              "    box-shadow: 0 1px 2px rgba(60, 64, 67, 0.3), 0 1px 3px 1px rgba(60, 64, 67, 0.15);\n",
              "    fill: var(--button-hover-fill-color);\n",
              "  }\n",
              "\n",
              "  .colab-df-quickchart-complete:disabled,\n",
              "  .colab-df-quickchart-complete:disabled:hover {\n",
              "    background-color: var(--disabled-bg-color);\n",
              "    fill: var(--disabled-fill-color);\n",
              "    box-shadow: none;\n",
              "  }\n",
              "\n",
              "  .colab-df-spinner {\n",
              "    border: 2px solid var(--fill-color);\n",
              "    border-color: transparent;\n",
              "    border-bottom-color: var(--fill-color);\n",
              "    animation:\n",
              "      spin 1s steps(1) infinite;\n",
              "  }\n",
              "\n",
              "  @keyframes spin {\n",
              "    0% {\n",
              "      border-color: transparent;\n",
              "      border-bottom-color: var(--fill-color);\n",
              "      border-left-color: var(--fill-color);\n",
              "    }\n",
              "    20% {\n",
              "      border-color: transparent;\n",
              "      border-left-color: var(--fill-color);\n",
              "      border-top-color: var(--fill-color);\n",
              "    }\n",
              "    30% {\n",
              "      border-color: transparent;\n",
              "      border-left-color: var(--fill-color);\n",
              "      border-top-color: var(--fill-color);\n",
              "      border-right-color: var(--fill-color);\n",
              "    }\n",
              "    40% {\n",
              "      border-color: transparent;\n",
              "      border-right-color: var(--fill-color);\n",
              "      border-top-color: var(--fill-color);\n",
              "    }\n",
              "    60% {\n",
              "      border-color: transparent;\n",
              "      border-right-color: var(--fill-color);\n",
              "    }\n",
              "    80% {\n",
              "      border-color: transparent;\n",
              "      border-right-color: var(--fill-color);\n",
              "      border-bottom-color: var(--fill-color);\n",
              "    }\n",
              "    90% {\n",
              "      border-color: transparent;\n",
              "      border-bottom-color: var(--fill-color);\n",
              "    }\n",
              "  }\n",
              "</style>\n",
              "\n",
              "      <script>\n",
              "        async function quickchart(key) {\n",
              "          const quickchartButtonEl =\n",
              "            document.querySelector('#' + key + ' button');\n",
              "          quickchartButtonEl.disabled = true;  // To prevent multiple clicks.\n",
              "          quickchartButtonEl.classList.add('colab-df-spinner');\n",
              "          try {\n",
              "            const charts = await google.colab.kernel.invokeFunction(\n",
              "                'suggestCharts', [key], {});\n",
              "          } catch (error) {\n",
              "            console.error('Error during call to suggestCharts:', error);\n",
              "          }\n",
              "          quickchartButtonEl.classList.remove('colab-df-spinner');\n",
              "          quickchartButtonEl.classList.add('colab-df-quickchart-complete');\n",
              "        }\n",
              "        (() => {\n",
              "          let quickchartButtonEl =\n",
              "            document.querySelector('#df-f6d02165-6736-4b92-a971-785f0eaa2466 button');\n",
              "          quickchartButtonEl.style.display =\n",
              "            google.colab.kernel.accessAllowed ? 'block' : 'none';\n",
              "        })();\n",
              "      </script>\n",
              "    </div>\n",
              "\n",
              "    </div>\n",
              "  </div>\n"
            ],
            "application/vnd.google.colaboratory.intrinsic+json": {
              "type": "dataframe",
              "variable_name": "insurance_df",
              "summary": "{\n  \"name\": \"insurance_df\",\n  \"rows\": 1338,\n  \"fields\": [\n    {\n      \"column\": \"age\",\n      \"properties\": {\n        \"dtype\": \"number\",\n        \"std\": 14,\n        \"min\": 18,\n        \"max\": 64,\n        \"num_unique_values\": 47,\n        \"samples\": [\n          21,\n          45,\n          36\n        ],\n        \"semantic_type\": \"\",\n        \"description\": \"\"\n      }\n    },\n    {\n      \"column\": \"sex\",\n      \"properties\": {\n        \"dtype\": \"category\",\n        \"num_unique_values\": 2,\n        \"samples\": [\n          \"male\",\n          \"female\"\n        ],\n        \"semantic_type\": \"\",\n        \"description\": \"\"\n      }\n    },\n    {\n      \"column\": \"bmi\",\n      \"properties\": {\n        \"dtype\": \"number\",\n        \"std\": 6.098186911679017,\n        \"min\": 15.96,\n        \"max\": 53.13,\n        \"num_unique_values\": 548,\n        \"samples\": [\n          23.18,\n          26.885\n        ],\n        \"semantic_type\": \"\",\n        \"description\": \"\"\n      }\n    },\n    {\n      \"column\": \"children\",\n      \"properties\": {\n        \"dtype\": \"number\",\n        \"std\": 1,\n        \"min\": 0,\n        \"max\": 5,\n        \"num_unique_values\": 6,\n        \"samples\": [\n          0,\n          1\n        ],\n        \"semantic_type\": \"\",\n        \"description\": \"\"\n      }\n    },\n    {\n      \"column\": \"smoker\",\n      \"properties\": {\n        \"dtype\": \"category\",\n        \"num_unique_values\": 2,\n        \"samples\": [\n          \"no\",\n          \"yes\"\n        ],\n        \"semantic_type\": \"\",\n        \"description\": \"\"\n      }\n    },\n    {\n      \"column\": \"region\",\n      \"properties\": {\n        \"dtype\": \"category\",\n        \"num_unique_values\": 4,\n        \"samples\": [\n          \"southeast\",\n          \"northeast\"\n        ],\n        \"semantic_type\": \"\",\n        \"description\": \"\"\n      }\n    },\n    {\n      \"column\": \"charges\",\n      \"properties\": {\n        \"dtype\": \"number\",\n        \"std\": 12110.011236693994,\n        \"min\": 1121.8739,\n        \"max\": 63770.42801,\n        \"num_unique_values\": 1337,\n        \"samples\": [\n          8688.85885,\n          5708.867\n        ],\n        \"semantic_type\": \"\",\n        \"description\": \"\"\n      }\n    }\n  ]\n}"
            }
          },
          "metadata": {},
          "execution_count": 15
        }
      ]
    },
    {
      "cell_type": "code",
      "source": [
        "# checking the shape of the dataset\n",
        "print(\"Shape of the dataset is: \",insurance_df.shape)"
      ],
      "metadata": {
        "colab": {
          "base_uri": "https://localhost:8080/"
        },
        "id": "xrytw2mk2-YC",
        "outputId": "523833e3-0404-4b2f-954a-c976949d7c1f"
      },
      "execution_count": 16,
      "outputs": [
        {
          "output_type": "stream",
          "name": "stdout",
          "text": [
            "Shape of the dataset is:  (1338, 7)\n"
          ]
        }
      ]
    },
    {
      "cell_type": "markdown",
      "source": [
        "**It's mean that we have a 1338 rows and the 7 columns in the dataset.**"
      ],
      "metadata": {
        "id": "ybXVjX0w4uUK"
      }
    },
    {
      "cell_type": "code",
      "source": [
        "# overall info about the dataset\n",
        "insurance_df.info()"
      ],
      "metadata": {
        "colab": {
          "base_uri": "https://localhost:8080/"
        },
        "id": "S0RvFhGN3LiT",
        "outputId": "a3dd6ea4-77cb-4d81-b286-a2c69045bcaa"
      },
      "execution_count": 17,
      "outputs": [
        {
          "output_type": "stream",
          "name": "stdout",
          "text": [
            "<class 'pandas.core.frame.DataFrame'>\n",
            "RangeIndex: 1338 entries, 0 to 1337\n",
            "Data columns (total 7 columns):\n",
            " #   Column    Non-Null Count  Dtype  \n",
            "---  ------    --------------  -----  \n",
            " 0   age       1338 non-null   int64  \n",
            " 1   sex       1338 non-null   object \n",
            " 2   bmi       1338 non-null   float64\n",
            " 3   children  1338 non-null   int64  \n",
            " 4   smoker    1338 non-null   object \n",
            " 5   region    1338 non-null   object \n",
            " 6   charges   1338 non-null   float64\n",
            "dtypes: float64(2), int64(2), object(3)\n",
            "memory usage: 73.3+ KB\n"
          ]
        }
      ]
    },
    {
      "cell_type": "code",
      "source": [
        "# checking for the null values in the dataset\n",
        "insurance_df.isnull().sum()"
      ],
      "metadata": {
        "colab": {
          "base_uri": "https://localhost:8080/",
          "height": 304
        },
        "id": "9akt58lu3PC8",
        "outputId": "63afb93e-7e04-40b2-c303-61fc7683eb26"
      },
      "execution_count": 18,
      "outputs": [
        {
          "output_type": "execute_result",
          "data": {
            "text/plain": [
              "age         0\n",
              "sex         0\n",
              "bmi         0\n",
              "children    0\n",
              "smoker      0\n",
              "region      0\n",
              "charges     0\n",
              "dtype: int64"
            ],
            "text/html": [
              "<div>\n",
              "<style scoped>\n",
              "    .dataframe tbody tr th:only-of-type {\n",
              "        vertical-align: middle;\n",
              "    }\n",
              "\n",
              "    .dataframe tbody tr th {\n",
              "        vertical-align: top;\n",
              "    }\n",
              "\n",
              "    .dataframe thead th {\n",
              "        text-align: right;\n",
              "    }\n",
              "</style>\n",
              "<table border=\"1\" class=\"dataframe\">\n",
              "  <thead>\n",
              "    <tr style=\"text-align: right;\">\n",
              "      <th></th>\n",
              "      <th>0</th>\n",
              "    </tr>\n",
              "  </thead>\n",
              "  <tbody>\n",
              "    <tr>\n",
              "      <th>age</th>\n",
              "      <td>0</td>\n",
              "    </tr>\n",
              "    <tr>\n",
              "      <th>sex</th>\n",
              "      <td>0</td>\n",
              "    </tr>\n",
              "    <tr>\n",
              "      <th>bmi</th>\n",
              "      <td>0</td>\n",
              "    </tr>\n",
              "    <tr>\n",
              "      <th>children</th>\n",
              "      <td>0</td>\n",
              "    </tr>\n",
              "    <tr>\n",
              "      <th>smoker</th>\n",
              "      <td>0</td>\n",
              "    </tr>\n",
              "    <tr>\n",
              "      <th>region</th>\n",
              "      <td>0</td>\n",
              "    </tr>\n",
              "    <tr>\n",
              "      <th>charges</th>\n",
              "      <td>0</td>\n",
              "    </tr>\n",
              "  </tbody>\n",
              "</table>\n",
              "</div><br><label><b>dtype:</b> int64</label>"
            ]
          },
          "metadata": {},
          "execution_count": 18
        }
      ]
    },
    {
      "cell_type": "code",
      "source": [
        "insurance_df.describe()"
      ],
      "metadata": {
        "colab": {
          "base_uri": "https://localhost:8080/",
          "height": 300
        },
        "id": "C8hVbjNs3R_a",
        "outputId": "77b8314f-4a7d-4d60-d1a3-dae04cccf00e"
      },
      "execution_count": 19,
      "outputs": [
        {
          "output_type": "execute_result",
          "data": {
            "text/plain": [
              "               age          bmi     children       charges\n",
              "count  1338.000000  1338.000000  1338.000000   1338.000000\n",
              "mean     39.207025    30.663397     1.094918  13270.422265\n",
              "std      14.049960     6.098187     1.205493  12110.011237\n",
              "min      18.000000    15.960000     0.000000   1121.873900\n",
              "25%      27.000000    26.296250     0.000000   4740.287150\n",
              "50%      39.000000    30.400000     1.000000   9382.033000\n",
              "75%      51.000000    34.693750     2.000000  16639.912515\n",
              "max      64.000000    53.130000     5.000000  63770.428010"
            ],
            "text/html": [
              "\n",
              "  <div id=\"df-69e3855d-3516-4c19-bf54-45fdae8bfa9a\" class=\"colab-df-container\">\n",
              "    <div>\n",
              "<style scoped>\n",
              "    .dataframe tbody tr th:only-of-type {\n",
              "        vertical-align: middle;\n",
              "    }\n",
              "\n",
              "    .dataframe tbody tr th {\n",
              "        vertical-align: top;\n",
              "    }\n",
              "\n",
              "    .dataframe thead th {\n",
              "        text-align: right;\n",
              "    }\n",
              "</style>\n",
              "<table border=\"1\" class=\"dataframe\">\n",
              "  <thead>\n",
              "    <tr style=\"text-align: right;\">\n",
              "      <th></th>\n",
              "      <th>age</th>\n",
              "      <th>bmi</th>\n",
              "      <th>children</th>\n",
              "      <th>charges</th>\n",
              "    </tr>\n",
              "  </thead>\n",
              "  <tbody>\n",
              "    <tr>\n",
              "      <th>count</th>\n",
              "      <td>1338.000000</td>\n",
              "      <td>1338.000000</td>\n",
              "      <td>1338.000000</td>\n",
              "      <td>1338.000000</td>\n",
              "    </tr>\n",
              "    <tr>\n",
              "      <th>mean</th>\n",
              "      <td>39.207025</td>\n",
              "      <td>30.663397</td>\n",
              "      <td>1.094918</td>\n",
              "      <td>13270.422265</td>\n",
              "    </tr>\n",
              "    <tr>\n",
              "      <th>std</th>\n",
              "      <td>14.049960</td>\n",
              "      <td>6.098187</td>\n",
              "      <td>1.205493</td>\n",
              "      <td>12110.011237</td>\n",
              "    </tr>\n",
              "    <tr>\n",
              "      <th>min</th>\n",
              "      <td>18.000000</td>\n",
              "      <td>15.960000</td>\n",
              "      <td>0.000000</td>\n",
              "      <td>1121.873900</td>\n",
              "    </tr>\n",
              "    <tr>\n",
              "      <th>25%</th>\n",
              "      <td>27.000000</td>\n",
              "      <td>26.296250</td>\n",
              "      <td>0.000000</td>\n",
              "      <td>4740.287150</td>\n",
              "    </tr>\n",
              "    <tr>\n",
              "      <th>50%</th>\n",
              "      <td>39.000000</td>\n",
              "      <td>30.400000</td>\n",
              "      <td>1.000000</td>\n",
              "      <td>9382.033000</td>\n",
              "    </tr>\n",
              "    <tr>\n",
              "      <th>75%</th>\n",
              "      <td>51.000000</td>\n",
              "      <td>34.693750</td>\n",
              "      <td>2.000000</td>\n",
              "      <td>16639.912515</td>\n",
              "    </tr>\n",
              "    <tr>\n",
              "      <th>max</th>\n",
              "      <td>64.000000</td>\n",
              "      <td>53.130000</td>\n",
              "      <td>5.000000</td>\n",
              "      <td>63770.428010</td>\n",
              "    </tr>\n",
              "  </tbody>\n",
              "</table>\n",
              "</div>\n",
              "    <div class=\"colab-df-buttons\">\n",
              "\n",
              "  <div class=\"colab-df-container\">\n",
              "    <button class=\"colab-df-convert\" onclick=\"convertToInteractive('df-69e3855d-3516-4c19-bf54-45fdae8bfa9a')\"\n",
              "            title=\"Convert this dataframe to an interactive table.\"\n",
              "            style=\"display:none;\">\n",
              "\n",
              "  <svg xmlns=\"http://www.w3.org/2000/svg\" height=\"24px\" viewBox=\"0 -960 960 960\">\n",
              "    <path d=\"M120-120v-720h720v720H120Zm60-500h600v-160H180v160Zm220 220h160v-160H400v160Zm0 220h160v-160H400v160ZM180-400h160v-160H180v160Zm440 0h160v-160H620v160ZM180-180h160v-160H180v160Zm440 0h160v-160H620v160Z\"/>\n",
              "  </svg>\n",
              "    </button>\n",
              "\n",
              "  <style>\n",
              "    .colab-df-container {\n",
              "      display:flex;\n",
              "      gap: 12px;\n",
              "    }\n",
              "\n",
              "    .colab-df-convert {\n",
              "      background-color: #E8F0FE;\n",
              "      border: none;\n",
              "      border-radius: 50%;\n",
              "      cursor: pointer;\n",
              "      display: none;\n",
              "      fill: #1967D2;\n",
              "      height: 32px;\n",
              "      padding: 0 0 0 0;\n",
              "      width: 32px;\n",
              "    }\n",
              "\n",
              "    .colab-df-convert:hover {\n",
              "      background-color: #E2EBFA;\n",
              "      box-shadow: 0px 1px 2px rgba(60, 64, 67, 0.3), 0px 1px 3px 1px rgba(60, 64, 67, 0.15);\n",
              "      fill: #174EA6;\n",
              "    }\n",
              "\n",
              "    .colab-df-buttons div {\n",
              "      margin-bottom: 4px;\n",
              "    }\n",
              "\n",
              "    [theme=dark] .colab-df-convert {\n",
              "      background-color: #3B4455;\n",
              "      fill: #D2E3FC;\n",
              "    }\n",
              "\n",
              "    [theme=dark] .colab-df-convert:hover {\n",
              "      background-color: #434B5C;\n",
              "      box-shadow: 0px 1px 3px 1px rgba(0, 0, 0, 0.15);\n",
              "      filter: drop-shadow(0px 1px 2px rgba(0, 0, 0, 0.3));\n",
              "      fill: #FFFFFF;\n",
              "    }\n",
              "  </style>\n",
              "\n",
              "    <script>\n",
              "      const buttonEl =\n",
              "        document.querySelector('#df-69e3855d-3516-4c19-bf54-45fdae8bfa9a button.colab-df-convert');\n",
              "      buttonEl.style.display =\n",
              "        google.colab.kernel.accessAllowed ? 'block' : 'none';\n",
              "\n",
              "      async function convertToInteractive(key) {\n",
              "        const element = document.querySelector('#df-69e3855d-3516-4c19-bf54-45fdae8bfa9a');\n",
              "        const dataTable =\n",
              "          await google.colab.kernel.invokeFunction('convertToInteractive',\n",
              "                                                    [key], {});\n",
              "        if (!dataTable) return;\n",
              "\n",
              "        const docLinkHtml = 'Like what you see? Visit the ' +\n",
              "          '<a target=\"_blank\" href=https://colab.research.google.com/notebooks/data_table.ipynb>data table notebook</a>'\n",
              "          + ' to learn more about interactive tables.';\n",
              "        element.innerHTML = '';\n",
              "        dataTable['output_type'] = 'display_data';\n",
              "        await google.colab.output.renderOutput(dataTable, element);\n",
              "        const docLink = document.createElement('div');\n",
              "        docLink.innerHTML = docLinkHtml;\n",
              "        element.appendChild(docLink);\n",
              "      }\n",
              "    </script>\n",
              "  </div>\n",
              "\n",
              "\n",
              "    <div id=\"df-aba39f88-2074-45c2-99b4-a57f207d579b\">\n",
              "      <button class=\"colab-df-quickchart\" onclick=\"quickchart('df-aba39f88-2074-45c2-99b4-a57f207d579b')\"\n",
              "                title=\"Suggest charts\"\n",
              "                style=\"display:none;\">\n",
              "\n",
              "<svg xmlns=\"http://www.w3.org/2000/svg\" height=\"24px\"viewBox=\"0 0 24 24\"\n",
              "     width=\"24px\">\n",
              "    <g>\n",
              "        <path d=\"M19 3H5c-1.1 0-2 .9-2 2v14c0 1.1.9 2 2 2h14c1.1 0 2-.9 2-2V5c0-1.1-.9-2-2-2zM9 17H7v-7h2v7zm4 0h-2V7h2v10zm4 0h-2v-4h2v4z\"/>\n",
              "    </g>\n",
              "</svg>\n",
              "      </button>\n",
              "\n",
              "<style>\n",
              "  .colab-df-quickchart {\n",
              "      --bg-color: #E8F0FE;\n",
              "      --fill-color: #1967D2;\n",
              "      --hover-bg-color: #E2EBFA;\n",
              "      --hover-fill-color: #174EA6;\n",
              "      --disabled-fill-color: #AAA;\n",
              "      --disabled-bg-color: #DDD;\n",
              "  }\n",
              "\n",
              "  [theme=dark] .colab-df-quickchart {\n",
              "      --bg-color: #3B4455;\n",
              "      --fill-color: #D2E3FC;\n",
              "      --hover-bg-color: #434B5C;\n",
              "      --hover-fill-color: #FFFFFF;\n",
              "      --disabled-bg-color: #3B4455;\n",
              "      --disabled-fill-color: #666;\n",
              "  }\n",
              "\n",
              "  .colab-df-quickchart {\n",
              "    background-color: var(--bg-color);\n",
              "    border: none;\n",
              "    border-radius: 50%;\n",
              "    cursor: pointer;\n",
              "    display: none;\n",
              "    fill: var(--fill-color);\n",
              "    height: 32px;\n",
              "    padding: 0;\n",
              "    width: 32px;\n",
              "  }\n",
              "\n",
              "  .colab-df-quickchart:hover {\n",
              "    background-color: var(--hover-bg-color);\n",
              "    box-shadow: 0 1px 2px rgba(60, 64, 67, 0.3), 0 1px 3px 1px rgba(60, 64, 67, 0.15);\n",
              "    fill: var(--button-hover-fill-color);\n",
              "  }\n",
              "\n",
              "  .colab-df-quickchart-complete:disabled,\n",
              "  .colab-df-quickchart-complete:disabled:hover {\n",
              "    background-color: var(--disabled-bg-color);\n",
              "    fill: var(--disabled-fill-color);\n",
              "    box-shadow: none;\n",
              "  }\n",
              "\n",
              "  .colab-df-spinner {\n",
              "    border: 2px solid var(--fill-color);\n",
              "    border-color: transparent;\n",
              "    border-bottom-color: var(--fill-color);\n",
              "    animation:\n",
              "      spin 1s steps(1) infinite;\n",
              "  }\n",
              "\n",
              "  @keyframes spin {\n",
              "    0% {\n",
              "      border-color: transparent;\n",
              "      border-bottom-color: var(--fill-color);\n",
              "      border-left-color: var(--fill-color);\n",
              "    }\n",
              "    20% {\n",
              "      border-color: transparent;\n",
              "      border-left-color: var(--fill-color);\n",
              "      border-top-color: var(--fill-color);\n",
              "    }\n",
              "    30% {\n",
              "      border-color: transparent;\n",
              "      border-left-color: var(--fill-color);\n",
              "      border-top-color: var(--fill-color);\n",
              "      border-right-color: var(--fill-color);\n",
              "    }\n",
              "    40% {\n",
              "      border-color: transparent;\n",
              "      border-right-color: var(--fill-color);\n",
              "      border-top-color: var(--fill-color);\n",
              "    }\n",
              "    60% {\n",
              "      border-color: transparent;\n",
              "      border-right-color: var(--fill-color);\n",
              "    }\n",
              "    80% {\n",
              "      border-color: transparent;\n",
              "      border-right-color: var(--fill-color);\n",
              "      border-bottom-color: var(--fill-color);\n",
              "    }\n",
              "    90% {\n",
              "      border-color: transparent;\n",
              "      border-bottom-color: var(--fill-color);\n",
              "    }\n",
              "  }\n",
              "</style>\n",
              "\n",
              "      <script>\n",
              "        async function quickchart(key) {\n",
              "          const quickchartButtonEl =\n",
              "            document.querySelector('#' + key + ' button');\n",
              "          quickchartButtonEl.disabled = true;  // To prevent multiple clicks.\n",
              "          quickchartButtonEl.classList.add('colab-df-spinner');\n",
              "          try {\n",
              "            const charts = await google.colab.kernel.invokeFunction(\n",
              "                'suggestCharts', [key], {});\n",
              "          } catch (error) {\n",
              "            console.error('Error during call to suggestCharts:', error);\n",
              "          }\n",
              "          quickchartButtonEl.classList.remove('colab-df-spinner');\n",
              "          quickchartButtonEl.classList.add('colab-df-quickchart-complete');\n",
              "        }\n",
              "        (() => {\n",
              "          let quickchartButtonEl =\n",
              "            document.querySelector('#df-aba39f88-2074-45c2-99b4-a57f207d579b button');\n",
              "          quickchartButtonEl.style.display =\n",
              "            google.colab.kernel.accessAllowed ? 'block' : 'none';\n",
              "        })();\n",
              "      </script>\n",
              "    </div>\n",
              "\n",
              "    </div>\n",
              "  </div>\n"
            ],
            "application/vnd.google.colaboratory.intrinsic+json": {
              "type": "dataframe",
              "summary": "{\n  \"name\": \"insurance_df\",\n  \"rows\": 8,\n  \"fields\": [\n    {\n      \"column\": \"age\",\n      \"properties\": {\n        \"dtype\": \"number\",\n        \"std\": 460.6106090399993,\n        \"min\": 14.049960379216172,\n        \"max\": 1338.0,\n        \"num_unique_values\": 8,\n        \"samples\": [\n          39.20702541106129,\n          39.0,\n          1338.0\n        ],\n        \"semantic_type\": \"\",\n        \"description\": \"\"\n      }\n    },\n    {\n      \"column\": \"bmi\",\n      \"properties\": {\n        \"dtype\": \"number\",\n        \"std\": 463.29524977918294,\n        \"min\": 6.098186911679017,\n        \"max\": 1338.0,\n        \"num_unique_values\": 8,\n        \"samples\": [\n          30.66339686098655,\n          30.4,\n          1338.0\n        ],\n        \"semantic_type\": \"\",\n        \"description\": \"\"\n      }\n    },\n    {\n      \"column\": \"children\",\n      \"properties\": {\n        \"dtype\": \"number\",\n        \"std\": 472.5368318870757,\n        \"min\": 0.0,\n        \"max\": 1338.0,\n        \"num_unique_values\": 7,\n        \"samples\": [\n          1338.0,\n          1.0949177877429,\n          2.0\n        ],\n        \"semantic_type\": \"\",\n        \"description\": \"\"\n      }\n    },\n    {\n      \"column\": \"charges\",\n      \"properties\": {\n        \"dtype\": \"number\",\n        \"std\": 20381.922846226596,\n        \"min\": 1121.8739,\n        \"max\": 63770.42801,\n        \"num_unique_values\": 8,\n        \"samples\": [\n          13270.422265141257,\n          9382.033,\n          1338.0\n        ],\n        \"semantic_type\": \"\",\n        \"description\": \"\"\n      }\n    }\n  ]\n}"
            }
          },
          "metadata": {},
          "execution_count": 19
        }
      ]
    },
    {
      "cell_type": "code",
      "source": [
        "corr_matrix = insurance_df.corr(numeric_only=True)\n",
        "\n",
        "# Plot the heatmap\n",
        "plt.figure(figsize=(10, 8))\n",
        "sns.heatmap(corr_matrix, annot=True, cmap='coolwarm', fmt=\".2f\", linewidths=.5)\n",
        "plt.title('Correlation Heatmap of Insurance Data')\n",
        "plt.show()"
      ],
      "metadata": {
        "colab": {
          "base_uri": "https://localhost:8080/",
          "height": 699
        },
        "id": "3CeiLX-0mcIh",
        "outputId": "150e5790-098b-4585-998a-23203ba887c8"
      },
      "execution_count": 20,
      "outputs": [
        {
          "output_type": "display_data",
          "data": {
            "text/plain": [
              "<Figure size 1000x800 with 2 Axes>"
            ],
            "image/png": "[encoded data removed]"
          },
          "metadata": {}
        }
      ]
    },
    {
      "cell_type": "code",
      "source": [
        "#data distribution for numerical features\n",
        "numerical_features = ['age', 'bmi', 'children', 'charges']\n",
        "insurance_df[numerical_features].hist(figsize=(7, 6), bins = 50)\n",
        "plt.tight_layout()\n",
        "plt.show()"
      ],
      "metadata": {
        "colab": {
          "base_uri": "https://localhost:8080/",
          "height": 607
        },
        "id": "uaN4BMVUmxdu",
        "outputId": "52cd3c3e-d553-4831-dc39-e9e9c0437d8b"
      },
      "execution_count": 21,
      "outputs": [
        {
          "output_type": "display_data",
          "data": {
            "text/plain": [
              "<Figure size 700x600 with 4 Axes>"
            ],
            "image/png": "[encoded data removed]"
          },
          "metadata": {}
        }
      ]
    },
    {
      "cell_type": "markdown",
      "source": [
        "**Data Distribution Insights**\n",
        "\n",
        "*  Age:-> Mostly even, but some binning gaps\n",
        "*   Bmi:-> Normal Distributed\n",
        "*   Children:-> data is imbalanced and skewed to 0-2 children\n",
        "* Charges: Highly right skewed we can imporve it by applying Log1p() transformation\n",
        "\n",
        "\n",
        "\n"
      ],
      "metadata": {
        "id": "a9EAGGfZxE_z"
      }
    },
    {
      "cell_type": "code",
      "source": [
        "fig, axes = plt.subplots(1, 3, figsize=(15, 5))\n",
        "for i, col in enumerate(['sex', 'smoker', 'region']):\n",
        "  sns.countplot(x=col, data=insurance_df, ax=axes[i])\n",
        "  axes[i].set_title(f'Distribution of {col}')\n",
        "plt.tight_layout()\n",
        "plt.show()"
      ],
      "metadata": {
        "colab": {
          "base_uri": "https://localhost:8080/",
          "height": 425
        },
        "id": "kwX0dG6ewWLn",
        "outputId": "4327c201-6c8b-4825-a68b-cea9c58bf93f"
      },
      "execution_count": 22,
      "outputs": [
        {
          "output_type": "display_data",
          "data": {
            "text/plain": [
              "<Figure size 1500x500 with 3 Axes>"
            ],
            "image/png": "[encoded data removed]"
          },
          "metadata": {}
        }
      ]
    },
    {
      "cell_type": "markdown",
      "source": [
        "\n",
        "\n",
        "\n",
        "\n",
        "*   Sex: balanced\n",
        "* smooker: Imbalanced (many non-smookers)\n",
        "*   region: Balanced\n",
        "\n",
        "\n",
        "\n"
      ],
      "metadata": {
        "id": "I0OR8a8SyTSi"
      }
    },
    {
      "cell_type": "markdown",
      "source": [
        "1. How many rows and columns are in the dataset? List the column names.\n"
      ],
      "metadata": {
        "id": "sjxLnuKRcKb0"
      }
    },
    {
      "cell_type": "code",
      "source": [
        "print(\"Number of rows in the dataset \",len(insurance_df))\n",
        "print(\"Number of columns in the dataset \",len(insurance_df.columns))\n",
        "print(\"Column names in the dataset \",insurance_df.columns)"
      ],
      "metadata": {
        "colab": {
          "base_uri": "https://localhost:8080/"
        },
        "id": "GXFOvz373iFA",
        "outputId": "6dc231e4-70a7-4895-f8ce-de62531ab92b"
      },
      "execution_count": 23,
      "outputs": [
        {
          "output_type": "stream",
          "name": "stdout",
          "text": [
            "Number of rows in the dataset  1338\n",
            "Number of columns in the dataset  7\n",
            "Column names in the dataset  Index(['age', 'sex', 'bmi', 'children', 'smoker', 'region', 'charges'], dtype='object')\n"
          ]
        }
      ]
    },
    {
      "cell_type": "markdown",
      "source": [
        "# Data Preprocessing"
      ],
      "metadata": {
        "id": "fAlPlkw7P1x2"
      }
    },
    {
      "cell_type": "markdown",
      "source": [
        "2. Implement the customize dataset function using your name (at least 5 characters). Explain how the function modifies the dataset."
      ],
      "metadata": {
        "id": "Ia--zPsFciT5"
      }
    },
    {
      "cell_type": "code",
      "source": [
        "# Encoding catergorical columns\n",
        "\n",
        "def preprocess_ahmed(df):\n",
        "    df = insurance_df.copy()\n",
        "    categorical_cols = ['sex', 'smoker', 'region']\n",
        "    # Encode categorical columns\n",
        "    for col in categorical_cols:\n",
        "        df[col] = pd.factorize(df[col])[0]\n",
        "\n",
        "    # log tranform target to reduce skewness in target varaible\n",
        "    df['charges'] = np.log1p(df['charges'])\n",
        "\n",
        "    return df\n",
        "\n",
        "df = preprocess_ahmed(insurance_df)"
      ],
      "metadata": {
        "id": "zpKBdyU5O7Sz"
      },
      "execution_count": 24,
      "outputs": []
    },
    {
      "cell_type": "code",
      "source": [
        "df.head()"
      ],
      "metadata": {
        "colab": {
          "base_uri": "https://localhost:8080/",
          "height": 206
        },
        "id": "vGE5DPw5RsKB",
        "outputId": "1e2c9c6c-af2d-42bf-de88-b061ee66c1be"
      },
      "execution_count": 25,
      "outputs": [
        {
          "output_type": "execute_result",
          "data": {
            "text/plain": [
              "   age  sex     bmi  children  smoker  region   charges\n",
              "0   19    0  27.900         0       0       0  9.734236\n",
              "1   18    1  33.770         1       1       1  7.453882\n",
              "2   28    1  33.000         3       1       1  8.400763\n",
              "3   33    1  22.705         0       1       2  9.998137\n",
              "4   32    1  28.880         0       1       2  8.260455"
            ],
            "text/html": [
              "\n",
              "  <div id=\"df-0a918b39-1973-4a12-a695-f92bd10d3139\" class=\"colab-df-container\">\n",
              "    <div>\n",
              "<style scoped>\n",
              "    .dataframe tbody tr th:only-of-type {\n",
              "        vertical-align: middle;\n",
              "    }\n",
              "\n",
              "    .dataframe tbody tr th {\n",
              "        vertical-align: top;\n",
              "    }\n",
              "\n",
              "    .dataframe thead th {\n",
              "        text-align: right;\n",
              "    }\n",
              "</style>\n",
              "<table border=\"1\" class=\"dataframe\">\n",
              "  <thead>\n",
              "    <tr style=\"text-align: right;\">\n",
              "      <th></th>\n",
              "      <th>age</th>\n",
              "      <th>sex</th>\n",
              "      <th>bmi</th>\n",
              "      <th>children</th>\n",
              "      <th>smoker</th>\n",
              "      <th>region</th>\n",
              "      <th>charges</th>\n",
              "    </tr>\n",
              "  </thead>\n",
              "  <tbody>\n",
              "    <tr>\n",
              "      <th>0</th>\n",
              "      <td>19</td>\n",
              "      <td>0</td>\n",
              "      <td>27.900</td>\n",
              "      <td>0</td>\n",
              "      <td>0</td>\n",
              "      <td>0</td>\n",
              "      <td>9.734236</td>\n",
              "    </tr>\n",
              "    <tr>\n",
              "      <th>1</th>\n",
              "      <td>18</td>\n",
              "      <td>1</td>\n",
              "      <td>33.770</td>\n",
              "      <td>1</td>\n",
              "      <td>1</td>\n",
              "      <td>1</td>\n",
              "      <td>7.453882</td>\n",
              "    </tr>\n",
              "    <tr>\n",
              "      <th>2</th>\n",
              "      <td>28</td>\n",
              "      <td>1</td>\n",
              "      <td>33.000</td>\n",
              "      <td>3</td>\n",
              "      <td>1</td>\n",
              "      <td>1</td>\n",
              "      <td>8.400763</td>\n",
              "    </tr>\n",
              "    <tr>\n",
              "      <th>3</th>\n",
              "      <td>33</td>\n",
              "      <td>1</td>\n",
              "      <td>22.705</td>\n",
              "      <td>0</td>\n",
              "      <td>1</td>\n",
              "      <td>2</td>\n",
              "      <td>9.998137</td>\n",
              "    </tr>\n",
              "    <tr>\n",
              "      <th>4</th>\n",
              "      <td>32</td>\n",
              "      <td>1</td>\n",
              "      <td>28.880</td>\n",
              "      <td>0</td>\n",
              "      <td>1</td>\n",
              "      <td>2</td>\n",
              "      <td>8.260455</td>\n",
              "    </tr>\n",
              "  </tbody>\n",
              "</table>\n",
              "</div>\n",
              "    <div class=\"colab-df-buttons\">\n",
              "\n",
              "  <div class=\"colab-df-container\">\n",
              "    <button class=\"colab-df-convert\" onclick=\"convertToInteractive('df-0a918b39-1973-4a12-a695-f92bd10d3139')\"\n",
              "            title=\"Convert this dataframe to an interactive table.\"\n",
              "            style=\"display:none;\">\n",
              "\n",
              "  <svg xmlns=\"http://www.w3.org/2000/svg\" height=\"24px\" viewBox=\"0 -960 960 960\">\n",
              "    <path d=\"M120-120v-720h720v720H120Zm60-500h600v-160H180v160Zm220 220h160v-160H400v160Zm0 220h160v-160H400v160ZM180-400h160v-160H180v160Zm440 0h160v-160H620v160ZM180-180h160v-160H180v160Zm440 0h160v-160H620v160Z\"/>\n",
              "  </svg>\n",
              "    </button>\n",
              "\n",
              "  <style>\n",
              "    .colab-df-container {\n",
              "      display:flex;\n",
              "      gap: 12px;\n",
              "    }\n",
              "\n",
              "    .colab-df-convert {\n",
              "      background-color: #E8F0FE;\n",
              "      border: none;\n",
              "      border-radius: 50%;\n",
              "      cursor: pointer;\n",
              "      display: none;\n",
              "      fill: #1967D2;\n",
              "      height: 32px;\n",
              "      padding: 0 0 0 0;\n",
              "      width: 32px;\n",
              "    }\n",
              "\n",
              "    .colab-df-convert:hover {\n",
              "      background-color: #E2EBFA;\n",
              "      box-shadow: 0px 1px 2px rgba(60, 64, 67, 0.3), 0px 1px 3px 1px rgba(60, 64, 67, 0.15);\n",
              "      fill: #174EA6;\n",
              "    }\n",
              "\n",
              "    .colab-df-buttons div {\n",
              "      margin-bottom: 4px;\n",
              "    }\n",
              "\n",
              "    [theme=dark] .colab-df-convert {\n",
              "      background-color: #3B4455;\n",
              "      fill: #D2E3FC;\n",
              "    }\n",
              "\n",
              "    [theme=dark] .colab-df-convert:hover {\n",
              "      background-color: #434B5C;\n",
              "      box-shadow: 0px 1px 3px 1px rgba(0, 0, 0, 0.15);\n",
              "      filter: drop-shadow(0px 1px 2px rgba(0, 0, 0, 0.3));\n",
              "      fill: #FFFFFF;\n",
              "    }\n",
              "  </style>\n",
              "\n",
              "    <script>\n",
              "      const buttonEl =\n",
              "        document.querySelector('#df-0a918b39-1973-4a12-a695-f92bd10d3139 button.colab-df-convert');\n",
              "      buttonEl.style.display =\n",
              "        google.colab.kernel.accessAllowed ? 'block' : 'none';\n",
              "\n",
              "      async function convertToInteractive(key) {\n",
              "        const element = document.querySelector('#df-0a918b39-1973-4a12-a695-f92bd10d3139');\n",
              "        const dataTable =\n",
              "          await google.colab.kernel.invokeFunction('convertToInteractive',\n",
              "                                                    [key], {});\n",
              "        if (!dataTable) return;\n",
              "\n",
              "        const docLinkHtml = 'Like what you see? Visit the ' +\n",
              "          '<a target=\"_blank\" href=https://colab.research.google.com/notebooks/data_table.ipynb>data table notebook</a>'\n",
              "          + ' to learn more about interactive tables.';\n",
              "        element.innerHTML = '';\n",
              "        dataTable['output_type'] = 'display_data';\n",
              "        await google.colab.output.renderOutput(dataTable, element);\n",
              "        const docLink = document.createElement('div');\n",
              "        docLink.innerHTML = docLinkHtml;\n",
              "        element.appendChild(docLink);\n",
              "      }\n",
              "    </script>\n",
              "  </div>\n",
              "\n",
              "\n",
              "    <div id=\"df-1ed0988d-502e-469d-ae37-b7255552f6c2\">\n",
              "      <button class=\"colab-df-quickchart\" onclick=\"quickchart('df-1ed0988d-502e-469d-ae37-b7255552f6c2')\"\n",
              "                title=\"Suggest charts\"\n",
              "                style=\"display:none;\">\n",
              "\n",
              "<svg xmlns=\"http://www.w3.org/2000/svg\" height=\"24px\"viewBox=\"0 0 24 24\"\n",
              "     width=\"24px\">\n",
              "    <g>\n",
              "        <path d=\"M19 3H5c-1.1 0-2 .9-2 2v14c0 1.1.9 2 2 2h14c1.1 0 2-.9 2-2V5c0-1.1-.9-2-2-2zM9 17H7v-7h2v7zm4 0h-2V7h2v10zm4 0h-2v-4h2v4z\"/>\n",
              "    </g>\n",
              "</svg>\n",
              "      </button>\n",
              "\n",
              "<style>\n",
              "  .colab-df-quickchart {\n",
              "      --bg-color: #E8F0FE;\n",
              "      --fill-color: #1967D2;\n",
              "      --hover-bg-color: #E2EBFA;\n",
              "      --hover-fill-color: #174EA6;\n",
              "      --disabled-fill-color: #AAA;\n",
              "      --disabled-bg-color: #DDD;\n",
              "  }\n",
              "\n",
              "  [theme=dark] .colab-df-quickchart {\n",
              "      --bg-color: #3B4455;\n",
              "      --fill-color: #D2E3FC;\n",
              "      --hover-bg-color: #434B5C;\n",
              "      --hover-fill-color: #FFFFFF;\n",
              "      --disabled-bg-color: #3B4455;\n",
              "      --disabled-fill-color: #666;\n",
              "  }\n",
              "\n",
              "  .colab-df-quickchart {\n",
              "    background-color: var(--bg-color);\n",
              "    border: none;\n",
              "    border-radius: 50%;\n",
              "    cursor: pointer;\n",
              "    display: none;\n",
              "    fill: var(--fill-color);\n",
              "    height: 32px;\n",
              "    padding: 0;\n",
              "    width: 32px;\n",
              "  }\n",
              "\n",
              "  .colab-df-quickchart:hover {\n",
              "    background-color: var(--hover-bg-color);\n",
              "    box-shadow: 0 1px 2px rgba(60, 64, 67, 0.3), 0 1px 3px 1px rgba(60, 64, 67, 0.15);\n",
              "    fill: var(--button-hover-fill-color);\n",
              "  }\n",
              "\n",
              "  .colab-df-quickchart-complete:disabled,\n",
              "  .colab-df-quickchart-complete:disabled:hover {\n",
              "    background-color: var(--disabled-bg-color);\n",
              "    fill: var(--disabled-fill-color);\n",
              "    box-shadow: none;\n",
              "  }\n",
              "\n",
              "  .colab-df-spinner {\n",
              "    border: 2px solid var(--fill-color);\n",
              "    border-color: transparent;\n",
              "    border-bottom-color: var(--fill-color);\n",
              "    animation:\n",
              "      spin 1s steps(1) infinite;\n",
              "  }\n",
              "\n",
              "  @keyframes spin {\n",
              "    0% {\n",
              "      border-color: transparent;\n",
              "      border-bottom-color: var(--fill-color);\n",
              "      border-left-color: var(--fill-color);\n",
              "    }\n",
              "    20% {\n",
              "      border-color: transparent;\n",
              "      border-left-color: var(--fill-color);\n",
              "      border-top-color: var(--fill-color);\n",
              "    }\n",
              "    30% {\n",
              "      border-color: transparent;\n",
              "      border-left-color: var(--fill-color);\n",
              "      border-top-color: var(--fill-color);\n",
              "      border-right-color: var(--fill-color);\n",
              "    }\n",
              "    40% {\n",
              "      border-color: transparent;\n",
              "      border-right-color: var(--fill-color);\n",
              "      border-top-color: var(--fill-color);\n",
              "    }\n",
              "    60% {\n",
              "      border-color: transparent;\n",
              "      border-right-color: var(--fill-color);\n",
              "    }\n",
              "    80% {\n",
              "      border-color: transparent;\n",
              "      border-right-color: var(--fill-color);\n",
              "      border-bottom-color: var(--fill-color);\n",
              "    }\n",
              "    90% {\n",
              "      border-color: transparent;\n",
              "      border-bottom-color: var(--fill-color);\n",
              "    }\n",
              "  }\n",
              "</style>\n",
              "\n",
              "      <script>\n",
              "        async function quickchart(key) {\n",
              "          const quickchartButtonEl =\n",
              "            document.querySelector('#' + key + ' button');\n",
              "          quickchartButtonEl.disabled = true;  // To prevent multiple clicks.\n",
              "          quickchartButtonEl.classList.add('colab-df-spinner');\n",
              "          try {\n",
              "            const charts = await google.colab.kernel.invokeFunction(\n",
              "                'suggestCharts', [key], {});\n",
              "          } catch (error) {\n",
              "            console.error('Error during call to suggestCharts:', error);\n",
              "          }\n",
              "          quickchartButtonEl.classList.remove('colab-df-spinner');\n",
              "          quickchartButtonEl.classList.add('colab-df-quickchart-complete');\n",
              "        }\n",
              "        (() => {\n",
              "          let quickchartButtonEl =\n",
              "            document.querySelector('#df-1ed0988d-502e-469d-ae37-b7255552f6c2 button');\n",
              "          quickchartButtonEl.style.display =\n",
              "            google.colab.kernel.accessAllowed ? 'block' : 'none';\n",
              "        })();\n",
              "      </script>\n",
              "    </div>\n",
              "\n",
              "    </div>\n",
              "  </div>\n"
            ],
            "application/vnd.google.colaboratory.intrinsic+json": {
              "type": "dataframe",
              "variable_name": "df",
              "summary": "{\n  \"name\": \"df\",\n  \"rows\": 1338,\n  \"fields\": [\n    {\n      \"column\": \"age\",\n      \"properties\": {\n        \"dtype\": \"number\",\n        \"std\": 14,\n        \"min\": 18,\n        \"max\": 64,\n        \"num_unique_values\": 47,\n        \"samples\": [\n          21,\n          45,\n          36\n        ],\n        \"semantic_type\": \"\",\n        \"description\": \"\"\n      }\n    },\n    {\n      \"column\": \"sex\",\n      \"properties\": {\n        \"dtype\": \"number\",\n        \"std\": 0,\n        \"min\": 0,\n        \"max\": 1,\n        \"num_unique_values\": 2,\n        \"samples\": [\n          1,\n          0\n        ],\n        \"semantic_type\": \"\",\n        \"description\": \"\"\n      }\n    },\n    {\n      \"column\": \"bmi\",\n      \"properties\": {\n        \"dtype\": \"number\",\n        \"std\": 6.098186911679017,\n        \"min\": 15.96,\n        \"max\": 53.13,\n        \"num_unique_values\": 548,\n        \"samples\": [\n          23.18,\n          26.885\n        ],\n        \"semantic_type\": \"\",\n        \"description\": \"\"\n      }\n    },\n    {\n      \"column\": \"children\",\n      \"properties\": {\n        \"dtype\": \"number\",\n        \"std\": 1,\n        \"min\": 0,\n        \"max\": 5,\n        \"num_unique_values\": 6,\n        \"samples\": [\n          0,\n          1\n        ],\n        \"semantic_type\": \"\",\n        \"description\": \"\"\n      }\n    },\n    {\n      \"column\": \"smoker\",\n      \"properties\": {\n        \"dtype\": \"number\",\n        \"std\": 0,\n        \"min\": 0,\n        \"max\": 1,\n        \"num_unique_values\": 2,\n        \"samples\": [\n          1,\n          0\n        ],\n        \"semantic_type\": \"\",\n        \"description\": \"\"\n      }\n    },\n    {\n      \"column\": \"region\",\n      \"properties\": {\n        \"dtype\": \"number\",\n        \"std\": 1,\n        \"min\": 0,\n        \"max\": 3,\n        \"num_unique_values\": 4,\n        \"samples\": [\n          1,\n          3\n        ],\n        \"semantic_type\": \"\",\n        \"description\": \"\"\n      }\n    },\n    {\n      \"column\": \"charges\",\n      \"properties\": {\n        \"dtype\": \"number\",\n        \"std\": 0.9193791452802484,\n        \"min\": 7.023646659920704,\n        \"max\": 11.063060532190162,\n        \"num_unique_values\": 1337,\n        \"samples\": [\n          9.069911975319696,\n          8.64995100990943\n        ],\n        \"semantic_type\": \"\",\n        \"description\": \"\"\n      }\n    }\n  ]\n}"
            }
          },
          "metadata": {},
          "execution_count": 25
        }
      ]
    },
    {
      "cell_type": "markdown",
      "source": [
        "**You can also check that the sex, smoker and region are encoded in the form of 0 1 2.**"
      ],
      "metadata": {
        "id": "sJ_Wtx7gRwop"
      }
    },
    {
      "cell_type": "markdown",
      "source": [
        "3. Identify the input, categorical, and output columns. Why is it necessary to convert categorical columns to numerical codes?"
      ],
      "metadata": {
        "id": "kqehKLkXeDMm"
      }
    },
    {
      "cell_type": "code",
      "source": [
        "# identifying features and the target variable\n",
        "\n",
        "input_cols = ['age','sex','bmi','children','smoker','region']\n",
        "target_col = ['charges']\n"
      ],
      "metadata": {
        "id": "gRH_WdefVkx1"
      },
      "execution_count": 26,
      "outputs": []
    },
    {
      "cell_type": "markdown",
      "source": [
        "**Machine learning models and PyTorch only work with numerical data. Categorical variables like \"male\" or \"southeast\" must be converted to numbers so that the model can learn from them.**"
      ],
      "metadata": {
        "id": "LvyPDB8FeEzR"
      }
    },
    {
      "cell_type": "markdown",
      "source": [
        "4. Convert the dataset to PyTorch tensors using DataFrame to arrays. What are the shapes of the input and target arrays?"
      ],
      "metadata": {
        "id": "Do7xoa13eaQJ"
      }
    },
    {
      "cell_type": "code",
      "source": [
        "# converting the data types into a Numpy array\n",
        "# why? because Pytorch models require input tensors to be in a numeric Numpy format(not Pandas).\n",
        "\n",
        "X = df[input_cols].values\n",
        "y = df[target_col].values.reshape(-1,1)"
      ],
      "metadata": {
        "id": "LUZUcjfHRt5s"
      },
      "execution_count": 27,
      "outputs": []
    },
    {
      "cell_type": "code",
      "source": [
        "print(\"Input shape:\", X.shape)\n",
        "print(\"Target shape:\", y.shape)"
      ],
      "metadata": {
        "colab": {
          "base_uri": "https://localhost:8080/"
        },
        "id": "ZpKHA3EicRtu",
        "outputId": "457b96eb-a717-460f-fa4a-bd1d8c0a4aaa"
      },
      "execution_count": 28,
      "outputs": [
        {
          "output_type": "stream",
          "name": "stdout",
          "text": [
            "Input shape: (1338, 6)\n",
            "Target shape: (1338, 1)\n"
          ]
        }
      ]
    },
    {
      "cell_type": "code",
      "source": [
        "# standardizing input Features and Target variable\n",
        "\n",
        "x_scaler = StandardScaler()\n",
        "y_scaler = StandardScaler()"
      ],
      "metadata": {
        "id": "6m6PFK8-ojGT"
      },
      "execution_count": 29,
      "outputs": []
    },
    {
      "cell_type": "code",
      "source": [
        "X_scaled = x_scaler.fit_transform(X).astype(np.float32)\n",
        "y_scaled = y_scaler.fit_transform(y).astype(np.float32)"
      ],
      "metadata": {
        "id": "CKMNWrAuo5CY"
      },
      "execution_count": 30,
      "outputs": []
    },
    {
      "cell_type": "code",
      "source": [
        "X_scaled"
      ],
      "metadata": {
        "colab": {
          "base_uri": "https://localhost:8080/"
        },
        "id": "_lmS18W7pZRV",
        "outputId": "9dea993e-0715-4069-cfae-5ed7a1cae67c"
      },
      "execution_count": 31,
      "outputs": [
        {
          "output_type": "execute_result",
          "data": {
            "text/plain": [
              "array([[-1.4387642 , -1.0105187 , -0.45332   , -0.9086137 , -1.9705867 ,\n",
              "        -1.3439046 ],\n",
              "       [-1.5099654 ,  0.9895908 ,  0.5096211 , -0.0787672 ,  0.5074631 ,\n",
              "        -0.43849456],\n",
              "       [-0.79795355,  0.9895908 ,  0.38330686,  1.5809257 ,  0.5074631 ,\n",
              "        -0.43849456],\n",
              "       ...,\n",
              "       [-1.5099654 , -1.0105187 ,  1.0148782 , -0.9086137 ,  0.5074631 ,\n",
              "        -0.43849456],\n",
              "       [-1.2963619 , -1.0105187 , -0.7978134 , -0.9086137 ,  0.5074631 ,\n",
              "        -1.3439046 ],\n",
              "       [ 1.5516857 , -1.0105187 , -0.26138797, -0.9086137 , -1.9705867 ,\n",
              "         0.4669155 ]], dtype=float32)"
            ]
          },
          "metadata": {},
          "execution_count": 31
        }
      ]
    },
    {
      "cell_type": "code",
      "source": [
        "y_scaled"
      ],
      "metadata": {
        "colab": {
          "base_uri": "https://localhost:8080/"
        },
        "id": "JhKUcKrlpe6w",
        "outputId": "abfe68e2-5051-4ace-9279-edfad74206ff"
      },
      "execution_count": 32,
      "outputs": [
        {
          "output_type": "execute_result",
          "data": {
            "text/plain": [
              "array([[ 0.6913853],\n",
              "       [-1.7898613],\n",
              "       [-0.7595624],\n",
              "       ...,\n",
              "       [-1.8519213],\n",
              "       [-1.6250329],\n",
              "       [ 1.2851735]], dtype=float32)"
            ]
          },
          "metadata": {},
          "execution_count": 32
        }
      ]
    },
    {
      "cell_type": "markdown",
      "source": [
        "# Dataset Spliting\n",
        "\n",
        "5. Split the dataset into training and validation sets with val_percent = 0.15. What are the sizes of the training and validation sets?"
      ],
      "metadata": {
        "id": "YVqXPkqvWrTy"
      }
    },
    {
      "cell_type": "code",
      "source": [
        "X_train, X_val, y_train, y_val = train_test_split(X_scaled, y_scaled, test_size=0.15, random_state=42)"
      ],
      "metadata": {
        "id": "z5C1LGf2WmH5"
      },
      "execution_count": 33,
      "outputs": []
    },
    {
      "cell_type": "code",
      "source": [
        "print(\"Training Size: \", X_train.shape[0])\n",
        "print(\"Testing Size: \", X_val.shape[0])"
      ],
      "metadata": {
        "colab": {
          "base_uri": "https://localhost:8080/"
        },
        "id": "LBMrXwsMXico",
        "outputId": "278c7140-b49e-488b-c70f-ef04fc928c9d"
      },
      "execution_count": 34,
      "outputs": [
        {
          "output_type": "stream",
          "name": "stdout",
          "text": [
            "Training Size:  1137\n",
            "Testing Size:  201\n"
          ]
        }
      ]
    },
    {
      "cell_type": "markdown",
      "source": [
        "6. Create a DataLoader with batch size = 32. Print the first batch of inputs and targets."
      ],
      "metadata": {
        "id": "iygh9h6TemyI"
      }
    },
    {
      "cell_type": "code",
      "source": [
        "# creating dataset and data loader\n",
        "\n",
        "class InsuranceDataset(Dataset):\n",
        "    def __init__(self, inputs, targets):\n",
        "        self.inputs = torch.from_numpy(inputs)\n",
        "        self.targets = torch.from_numpy(targets)\n",
        "\n",
        "    def __len__(self):\n",
        "        return len(self.inputs)\n",
        "\n",
        "    def __getitem__(self, idx):\n",
        "        return self.inputs[idx], self.targets[idx]\n",
        "\n",
        "train_ds = InsuranceDataset(X_train, y_train)\n",
        "val_ds = InsuranceDataset(X_val, y_val)"
      ],
      "metadata": {
        "id": "kntao6jUXtqT"
      },
      "execution_count": 35,
      "outputs": []
    },
    {
      "cell_type": "code",
      "source": [
        "train_dl = DataLoader(train_ds, batch_size=32, shuffle=True)\n",
        "val_dl = DataLoader(val_ds, batch_size=32)"
      ],
      "metadata": {
        "id": "g70sxK2ldr07"
      },
      "execution_count": 36,
      "outputs": []
    },
    {
      "cell_type": "code",
      "source": [
        "# Displaying one batch\n",
        "for xb,yb in train_dl:\n",
        "  print(\"Sample input batch: \",xb)\n",
        "  print('Sample Target batch: ', yb)\n",
        "  break"
      ],
      "metadata": {
        "colab": {
          "base_uri": "https://localhost:8080/"
        },
        "id": "Kivhrqydd8z6",
        "outputId": "1e13282e-4d7c-4875-8d65-0792afae2345"
      },
      "execution_count": 37,
      "outputs": [
        {
          "output_type": "stream",
          "name": "stdout",
          "text": [
            "Sample input batch:  tensor([[-1.2964, -1.0105, -2.1758, -0.0788,  0.5075, -1.3439],\n",
            "        [-1.2252, -1.0105,  0.8754, -0.9086,  0.5075, -1.3439],\n",
            "        [-1.5100,  0.9896, -0.1039, -0.0788,  0.5075, -0.4385],\n",
            "        [-1.4388, -1.0105,  0.3669, -0.9086,  0.5075, -1.3439],\n",
            "        [-0.0859,  0.9896, -1.5655,  1.5809,  0.5075, -0.4385],\n",
            "        [ 0.5549,  0.9896,  0.8886, -0.0788, -1.9706, -0.4385],\n",
            "        [ 0.0565,  0.9896,  1.8089, -0.9086,  0.5075, -0.4385],\n",
            "        [-0.9404,  0.9896, -2.1315, -0.9086,  0.5075,  0.4669],\n",
            "        [-1.5100, -1.0105,  1.0149, -0.9086,  0.5075, -0.4385],\n",
            "        [ 0.7685,  0.9896,  0.2685, -0.0788, -1.9706,  1.3723],\n",
            "        [-0.2995,  0.9896,  1.4840,  2.4108,  0.5075,  1.3723],\n",
            "        [-1.5100,  0.9896, -0.9003, -0.9086, -1.9706,  1.3723],\n",
            "        [ 0.2701, -1.0105,  2.5487, -0.9086, -1.9706, -0.4385],\n",
            "        [ 0.6973, -1.0105, -0.5846, -0.0788,  0.5075, -1.3439],\n",
            "        [ 0.6973, -1.0105, -1.1185,  1.5809, -1.9706,  1.3723],\n",
            "        [ 0.8397,  0.9896,  0.2685, -0.0788,  0.5075,  1.3723],\n",
            "        [-1.0828, -1.0105,  1.4480, -0.9086,  0.5075, -0.4385],\n",
            "        [-1.4388,  0.9896, -1.6484,  0.7511,  0.5075,  0.4669],\n",
            "        [ 0.0565, -1.0105, -0.1744, -0.9086,  0.5075, -1.3439],\n",
            "        [-1.0828, -1.0105, -1.3228, -0.9086,  0.5075, -1.3439],\n",
            "        [ 0.8397,  0.9896, -1.2227, -0.0788, -1.9706, -0.4385],\n",
            "        [-0.7268, -1.0105,  0.2373,  0.7511,  0.5075,  0.4669],\n",
            "        [-0.0147,  0.9896, -0.3877, -0.0788, -1.9706, -1.3439],\n",
            "        [ 1.3381,  0.9896,  0.2209, -0.0788,  0.5075, -0.4385],\n",
            "        [ 0.9109,  0.9896,  0.3464,  1.5809,  0.5075,  0.4669],\n",
            "        [-1.2964,  0.9896, -0.2770, -0.9086,  0.5075,  0.4669],\n",
            "        [-1.4388,  0.9896, -0.3221, -0.9086,  0.5075, -1.3439],\n",
            "        [-1.3676,  0.9896,  0.0035, -0.9086, -1.9706,  1.3723],\n",
            "        [ 0.8397, -1.0105, -0.7978, -0.0788,  0.5075, -1.3439],\n",
            "        [ 0.4837,  0.9896, -0.0276,  1.5809, -1.9706,  0.4669],\n",
            "        [-1.4388, -1.0105,  1.4685, -0.0788,  0.5075,  0.4669],\n",
            "        [ 0.5549, -1.0105,  0.4399, -0.9086,  0.5075,  1.3723]])\n",
            "Sample Target batch:  tensor([[-1.3502],\n",
            "        [-1.5423],\n",
            "        [-1.7931],\n",
            "        [-1.7753],\n",
            "        [-0.3220],\n",
            "        [ 1.6883],\n",
            "        [-0.5412],\n",
            "        [-1.3106],\n",
            "        [-1.8519],\n",
            "        [ 1.6808],\n",
            "        [ 0.8479],\n",
            "        [ 0.5995],\n",
            "        [ 1.7786],\n",
            "        [ 1.1669],\n",
            "        [ 1.0788],\n",
            "        [ 0.1175],\n",
            "        [-1.3950],\n",
            "        [-1.2620],\n",
            "        [-0.4506],\n",
            "        [-1.4053],\n",
            "        [ 0.9900],\n",
            "        [-0.6496],\n",
            "        [ 0.9329],\n",
            "        [ 0.3150],\n",
            "        [ 0.2534],\n",
            "        [-1.6815],\n",
            "        [-2.1370],\n",
            "        [ 1.4360],\n",
            "        [ 0.1062],\n",
            "        [ 1.6492],\n",
            "        [-1.2909],\n",
            "        [ 0.9224]])\n"
          ]
        }
      ]
    },
    {
      "cell_type": "markdown",
      "source": [
        "# Linear Regression Model"
      ],
      "metadata": {
        "id": "7JNchutJg5FY"
      }
    },
    {
      "cell_type": "markdown",
      "source": [
        "7. Define the InsuranceModel class. Why is nn.Linear used, and what are the input and output sizes?"
      ],
      "metadata": {
        "id": "HCyiSSL_e2Xd"
      }
    },
    {
      "cell_type": "code",
      "source": [
        "# Linear Regression Model\n",
        "\n",
        "\n",
        "class InsuranceModel(nn.Module):\n",
        "    def __init__(self, input_size: int):\n",
        "        super(InsuranceModel, self).__init__()\n",
        "        self.linear = nn.Linear(input_size, 1)\n",
        "\n",
        "    def forward(self, x):\n",
        "        return self.linear(x)\n",
        "\n",
        "\n",
        "input_size = len(input_cols)\n",
        "model = InsuranceModel(input_size)"
      ],
      "metadata": {
        "id": "0Ii1noUUeSOx"
      },
      "execution_count": 38,
      "outputs": []
    },
    {
      "cell_type": "markdown",
      "source": [
        "* nn.Linear is used to define a linear regression layer, which maps inputs to output with weights and bias.\n",
        "\n",
        "* Input Size: 6\n",
        "\n",
        "* Output Size: 1 (predicted insurance charge)"
      ],
      "metadata": {
        "id": "gx4EDru6e6t-"
      }
    },
    {
      "cell_type": "markdown",
      "source": [
        "# Model Training\n",
        "\n",
        "8. Train the model for 500 epochs with lr=1e-3. Plot the validation loss over epochs. What trend do you observe?"
      ],
      "metadata": {
        "id": "Jcq2yL2wg8um"
      }
    },
    {
      "cell_type": "code",
      "source": [
        "def train_model(model, train_dl, val_dl, epochs=300, lr=1e-3, weight_decay=1e-5):\n",
        "    criterion = nn.MSELoss()\n",
        "    optimizer = torch.optim.Adam(model.parameters(), lr=lr, weight_decay=weight_decay)\n",
        "    val_losses = []\n",
        "    best_val_loss = float('inf')\n",
        "    patience = 20\n",
        "    wait = 0\n",
        "\n",
        "    for epoch in range(epochs):\n",
        "        model.train()\n",
        "        epoch_loss = 0\n",
        "\n",
        "        for xb, yb in train_dl:\n",
        "            preds = model(xb)\n",
        "            loss = criterion(preds, yb)\n",
        "            loss.backward()\n",
        "\n",
        "            # ✅ Clip gradients to avoid exploding gradients\n",
        "            torch.nn.utils.clip_grad_norm_(model.parameters(), max_norm=1.0)\n",
        "\n",
        "            optimizer.step()\n",
        "            optimizer.zero_grad()\n",
        "\n",
        "            epoch_loss += loss.item()\n",
        "\n",
        "        avg_train_loss = epoch_loss / len(train_dl)\n",
        "\n",
        "        # ✅ Evaluate on validation set\n",
        "        model.eval()\n",
        "        with torch.no_grad():\n",
        "            val_loss = sum(criterion(model(xb), yb).item() for xb, yb in val_dl) / len(val_dl)\n",
        "\n",
        "        val_losses.append(val_loss)\n",
        "\n",
        "        print(f\"Epoch [{epoch+1}/{epochs}], Train Loss: {avg_train_loss:.4f}, Validation Loss: {val_loss:.4f}\")\n",
        "\n",
        "        # ✅ Early Stopping\n",
        "        if val_loss < best_val_loss:\n",
        "            best_val_loss = val_loss\n",
        "            wait = 0\n",
        "        else:\n",
        "            wait += 1\n",
        "            if wait >= patience:\n",
        "                print(f\"⏹️ Early stopping at epoch {epoch+1}\")\n",
        "                break\n",
        "\n",
        "    return val_losses\n",
        "\n",
        "\n",
        "\n",
        "\n",
        "# training the model\n",
        "val_losses = train_model(model, train_dl, val_dl)\n",
        "\n"
      ],
      "metadata": {
        "colab": {
          "base_uri": "https://localhost:8080/"
        },
        "id": "PdWaEtfMgO8O",
        "outputId": "b67e809e-bf0f-433d-eafe-5bbf18bb6939"
      },
      "execution_count": 39,
      "outputs": [
        {
          "output_type": "stream",
          "name": "stdout",
          "text": [
            "Epoch [1/300], Train Loss: 1.1892, Validation Loss: 1.1308\n",
            "Epoch [2/300], Train Loss: 1.0845, Validation Loss: 1.0205\n",
            "Epoch [3/300], Train Loss: 0.9675, Validation Loss: 0.9204\n",
            "Epoch [4/300], Train Loss: 0.8713, Validation Loss: 0.8300\n",
            "Epoch [5/300], Train Loss: 0.7894, Validation Loss: 0.7481\n",
            "Epoch [6/300], Train Loss: 0.7166, Validation Loss: 0.6746\n",
            "Epoch [7/300], Train Loss: 0.6443, Validation Loss: 0.6103\n",
            "Epoch [8/300], Train Loss: 0.5954, Validation Loss: 0.5542\n",
            "Epoch [9/300], Train Loss: 0.5414, Validation Loss: 0.5022\n",
            "Epoch [10/300], Train Loss: 0.4957, Validation Loss: 0.4560\n",
            "Epoch [11/300], Train Loss: 0.4564, Validation Loss: 0.4156\n",
            "Epoch [12/300], Train Loss: 0.4272, Validation Loss: 0.3798\n",
            "Epoch [13/300], Train Loss: 0.3970, Validation Loss: 0.3512\n",
            "Epoch [14/300], Train Loss: 0.3702, Validation Loss: 0.3238\n",
            "Epoch [15/300], Train Loss: 0.3523, Validation Loss: 0.3014\n",
            "Epoch [16/300], Train Loss: 0.3324, Validation Loss: 0.2830\n",
            "Epoch [17/300], Train Loss: 0.3163, Validation Loss: 0.2677\n",
            "Epoch [18/300], Train Loss: 0.3007, Validation Loss: 0.2526\n",
            "Epoch [19/300], Train Loss: 0.2906, Validation Loss: 0.2415\n",
            "Epoch [20/300], Train Loss: 0.2790, Validation Loss: 0.2323\n",
            "Epoch [21/300], Train Loss: 0.2769, Validation Loss: 0.2239\n",
            "Epoch [22/300], Train Loss: 0.2689, Validation Loss: 0.2180\n",
            "Epoch [23/300], Train Loss: 0.2609, Validation Loss: 0.2110\n",
            "Epoch [24/300], Train Loss: 0.2567, Validation Loss: 0.2062\n",
            "Epoch [25/300], Train Loss: 0.2538, Validation Loss: 0.2026\n",
            "Epoch [26/300], Train Loss: 0.2540, Validation Loss: 0.1988\n",
            "Epoch [27/300], Train Loss: 0.2485, Validation Loss: 0.1967\n",
            "Epoch [28/300], Train Loss: 0.2474, Validation Loss: 0.1948\n",
            "Epoch [29/300], Train Loss: 0.2458, Validation Loss: 0.1925\n",
            "Epoch [30/300], Train Loss: 0.2443, Validation Loss: 0.1917\n",
            "Epoch [31/300], Train Loss: 0.2418, Validation Loss: 0.1909\n",
            "Epoch [32/300], Train Loss: 0.2393, Validation Loss: 0.1893\n",
            "Epoch [33/300], Train Loss: 0.2427, Validation Loss: 0.1885\n",
            "Epoch [34/300], Train Loss: 0.2397, Validation Loss: 0.1881\n",
            "Epoch [35/300], Train Loss: 0.2410, Validation Loss: 0.1874\n",
            "Epoch [36/300], Train Loss: 0.2390, Validation Loss: 0.1872\n",
            "Epoch [37/300], Train Loss: 0.2375, Validation Loss: 0.1868\n",
            "Epoch [38/300], Train Loss: 0.2371, Validation Loss: 0.1862\n",
            "Epoch [39/300], Train Loss: 0.2387, Validation Loss: 0.1859\n",
            "Epoch [40/300], Train Loss: 0.2397, Validation Loss: 0.1861\n",
            "Epoch [41/300], Train Loss: 0.2380, Validation Loss: 0.1851\n",
            "Epoch [42/300], Train Loss: 0.2375, Validation Loss: 0.1854\n",
            "Epoch [43/300], Train Loss: 0.2422, Validation Loss: 0.1857\n",
            "Epoch [44/300], Train Loss: 0.2405, Validation Loss: 0.1861\n",
            "Epoch [45/300], Train Loss: 0.2390, Validation Loss: 0.1863\n",
            "Epoch [46/300], Train Loss: 0.2375, Validation Loss: 0.1858\n",
            "Epoch [47/300], Train Loss: 0.2384, Validation Loss: 0.1860\n",
            "Epoch [48/300], Train Loss: 0.2378, Validation Loss: 0.1851\n",
            "Epoch [49/300], Train Loss: 0.2379, Validation Loss: 0.1853\n",
            "Epoch [50/300], Train Loss: 0.2390, Validation Loss: 0.1857\n",
            "Epoch [51/300], Train Loss: 0.2376, Validation Loss: 0.1856\n",
            "Epoch [52/300], Train Loss: 0.2404, Validation Loss: 0.1850\n",
            "Epoch [53/300], Train Loss: 0.2381, Validation Loss: 0.1856\n",
            "Epoch [54/300], Train Loss: 0.2488, Validation Loss: 0.1859\n",
            "Epoch [55/300], Train Loss: 0.2371, Validation Loss: 0.1856\n",
            "Epoch [56/300], Train Loss: 0.2367, Validation Loss: 0.1851\n",
            "Epoch [57/300], Train Loss: 0.2372, Validation Loss: 0.1856\n",
            "Epoch [58/300], Train Loss: 0.2382, Validation Loss: 0.1857\n",
            "Epoch [59/300], Train Loss: 0.2366, Validation Loss: 0.1855\n",
            "Epoch [60/300], Train Loss: 0.2384, Validation Loss: 0.1852\n",
            "Epoch [61/300], Train Loss: 0.2381, Validation Loss: 0.1857\n",
            "Epoch [62/300], Train Loss: 0.2385, Validation Loss: 0.1851\n",
            "Epoch [63/300], Train Loss: 0.2390, Validation Loss: 0.1853\n",
            "Epoch [64/300], Train Loss: 0.2392, Validation Loss: 0.1856\n",
            "Epoch [65/300], Train Loss: 0.2418, Validation Loss: 0.1854\n",
            "Epoch [66/300], Train Loss: 0.2388, Validation Loss: 0.1855\n",
            "Epoch [67/300], Train Loss: 0.2389, Validation Loss: 0.1858\n",
            "Epoch [68/300], Train Loss: 0.2381, Validation Loss: 0.1854\n",
            "Epoch [69/300], Train Loss: 0.2420, Validation Loss: 0.1854\n",
            "Epoch [70/300], Train Loss: 0.2397, Validation Loss: 0.1852\n",
            "Epoch [71/300], Train Loss: 0.2391, Validation Loss: 0.1853\n",
            "Epoch [72/300], Train Loss: 0.2421, Validation Loss: 0.1850\n",
            "Epoch [73/300], Train Loss: 0.2384, Validation Loss: 0.1862\n",
            "Epoch [74/300], Train Loss: 0.2416, Validation Loss: 0.1852\n",
            "Epoch [75/300], Train Loss: 0.2411, Validation Loss: 0.1853\n",
            "Epoch [76/300], Train Loss: 0.2418, Validation Loss: 0.1858\n",
            "Epoch [77/300], Train Loss: 0.2397, Validation Loss: 0.1859\n",
            "Epoch [78/300], Train Loss: 0.2417, Validation Loss: 0.1851\n",
            "Epoch [79/300], Train Loss: 0.2380, Validation Loss: 0.1857\n",
            "Epoch [80/300], Train Loss: 0.2386, Validation Loss: 0.1861\n",
            "Epoch [81/300], Train Loss: 0.2376, Validation Loss: 0.1857\n",
            "Epoch [82/300], Train Loss: 0.2369, Validation Loss: 0.1853\n",
            "Epoch [83/300], Train Loss: 0.2455, Validation Loss: 0.1851\n",
            "Epoch [84/300], Train Loss: 0.2380, Validation Loss: 0.1856\n",
            "Epoch [85/300], Train Loss: 0.2373, Validation Loss: 0.1854\n",
            "Epoch [86/300], Train Loss: 0.2438, Validation Loss: 0.1859\n",
            "Epoch [87/300], Train Loss: 0.2399, Validation Loss: 0.1855\n",
            "Epoch [88/300], Train Loss: 0.2383, Validation Loss: 0.1859\n",
            "Epoch [89/300], Train Loss: 0.2433, Validation Loss: 0.1856\n",
            "Epoch [90/300], Train Loss: 0.2385, Validation Loss: 0.1854\n",
            "Epoch [91/300], Train Loss: 0.2385, Validation Loss: 0.1858\n",
            "Epoch [92/300], Train Loss: 0.2428, Validation Loss: 0.1854\n",
            "⏹️ Early stopping at epoch 92\n"
          ]
        }
      ]
    },
    {
      "cell_type": "markdown",
      "source": [
        "Trend Observed:\n",
        "\n",
        "The validation loss decreases gradually, indicating that the model is learning.\n",
        "I used Early stopping to avoid overfitting."
      ],
      "metadata": {
        "id": "H_N5YO8ifN9Z"
      }
    },
    {
      "cell_type": "code",
      "source": [
        "# ploting the loss curve\n",
        "plt.plot(val_losses)\n",
        "plt.xlabel('Epoch')\n",
        "plt.ylabel('Validation Loss (MSE)')\n",
        "plt.title('Validation Loss Over Epochs')\n",
        "plt.grid(True)\n",
        "plt.show()"
      ],
      "metadata": {
        "colab": {
          "base_uri": "https://localhost:8080/",
          "height": 472
        },
        "id": "iHRLL-tNiWO3",
        "outputId": "b37cfe6f-e6f1-46fd-846a-3238591070a8"
      },
      "execution_count": 40,
      "outputs": [
        {
          "output_type": "display_data",
          "data": {
            "text/plain": [
              "<Figure size 640x480 with 1 Axes>"
            ],
            "image/png": "[encoded data removed]"
          },
          "metadata": {}
        }
      ]
    },
    {
      "cell_type": "code",
      "source": [
        "# Evaluate the model on the validation set and calculate R2 score\n",
        "model.eval()\n",
        "with torch.no_grad():\n",
        "    y_pred_val = model(val_ds.inputs).numpy()\n",
        "    y_true_val = val_ds.targets.numpy()\n",
        "    r2 = r2_score(y_true_val, y_pred_val)\n",
        "\n",
        "print(f\"R2 Score on the validation set: {r2:.4f}\")"
      ],
      "metadata": {
        "colab": {
          "base_uri": "https://localhost:8080/"
        },
        "id": "ydLijG4Vt_YP",
        "outputId": "c65e833c-a2e6-4a9f-bcec-2f614523bd40"
      },
      "execution_count": 41,
      "outputs": [
        {
          "output_type": "stream",
          "name": "stdout",
          "text": [
            "R2 Score on the validation set: 0.8106\n"
          ]
        }
      ]
    },
    {
      "cell_type": "markdown",
      "source": [
        "9. Make predictions for three validation samples using predict_single. Compare predictions with actual targets."
      ],
      "metadata": {
        "id": "f05rst6yfjXl"
      }
    },
    {
      "cell_type": "code",
      "source": [
        "def predict_single(model, sample):\n",
        "    model.eval()\n",
        "    with torch.no_grad():\n",
        "        sample_tensor = torch.tensor(sample, dtype=torch.float32).unsqueeze(0)\n",
        "        pred = model(sample_tensor).numpy()\n",
        "        return y_scaler.inverse_transform(pred)[0][0]"
      ],
      "metadata": {
        "id": "HZL2sC1ivFwa"
      },
      "execution_count": 42,
      "outputs": []
    },
    {
      "cell_type": "code",
      "source": [
        "# show predictions\n",
        "\n",
        "print('Sample Predictions:')\n",
        "for i in range(3):\n",
        "  raw_input = X_val[i]\n",
        "  true_val = y_scaler.inverse_transform(y-y_val[i].reshape(-1, 1))[0][0]\n",
        "  pred_val = predict_single(model, raw_input)\n",
        "  print(f\"Input: {raw_input}, Predicted: {pred_val}, Actual: {true_val}\")"
      ],
      "metadata": {
        "colab": {
          "base_uri": "https://localhost:8080/"
        },
        "id": "vUinv4BttjX_",
        "outputId": "0bba5e38-0815-4580-e58e-9bb56e203149"
      },
      "execution_count": 43,
      "outputs": [
        {
          "output_type": "stream",
          "name": "stdout",
          "text": [
            "Sample Predictions:\n",
            "Input: [ 0.41246668 -1.0105187  -0.9003412   0.75107926  0.5074631   1.3723255 ], Predicted: 9.107536315917969, Actual: 18.0281667136922\n",
            "Input: [-0.22834402 -1.0105187  -0.10554571 -0.9086137   0.5074631   0.4669155 ], Predicted: 8.623079299926758, Actual: 18.573376149975232\n",
            "Input: [ 1.7652893 -1.0105187 -0.6198251 -0.9086137 -1.9705867  0.4669155], Predicted: 11.119495391845703, Actual: 16.85733044936811\n"
          ]
        }
      ]
    },
    {
      "cell_type": "markdown",
      "source": [
        "10. Save the model using pickle. Why is model saving important for deployment?\n",
        "\n",
        "* Enables deployment without retraining\n",
        "\n",
        "* Allows reloading the model for future use\n",
        "\n",
        "* Makes integration into APIs or applications easier"
      ],
      "metadata": {
        "id": "lDXkFv3_fm7u"
      }
    },
    {
      "cell_type": "code",
      "source": [
        "# Saving the trained model to a file\n",
        "filename = 'linear_regression_model.pkl'\n",
        "pickle.dump(model, open(filename, 'wb'))"
      ],
      "metadata": {
        "id": "e93wpJZl4eC0"
      },
      "execution_count": 44,
      "outputs": []
    }
  ]
}